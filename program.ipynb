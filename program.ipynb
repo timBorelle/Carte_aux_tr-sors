{
 "cells": [
  {
   "cell_type": "markdown",
   "metadata": {},
   "source": [
    "# Contexte\n",
    "Le gouvernement péruvien vient d’autoriser les aventuriers en quête de trésors à explorer les 85 182\n",
    "km² du département de la Madre de Dios. Vous devez réaliser un système permettant de suivre les\n",
    "déplacements et les collectes de trésors effectuées par les aventuriers. Le gouvernement péruvien\n",
    "étant très à cheval sur les bonnes pratiques de code, il est important de réaliser un code de qualité,\n",
    "lisible, et maintenable (oui, ça veut dire avec des tests) !"
   ]
  },
  {
   "cell_type": "code",
   "execution_count": 32,
   "metadata": {},
   "outputs": [],
   "source": [
    "import re\n",
    "import numpy as np\n",
    "from numpy import zeros,array"
   ]
  },
  {
   "cell_type": "code",
   "execution_count": 204,
   "metadata": {},
   "outputs": [
    {
     "data": {
      "text/plain": [
       "array([], shape=(0, 5), dtype=object)"
      ]
     },
     "execution_count": 204,
     "metadata": {},
     "output_type": "execute_result"
    }
   ],
   "source": [
    "#global nbAdventurers\n",
    "nbAdventurers = 0\n",
    "tabAdventurers #= np.array([])\n",
    "tabAdventurers = np.empty((0,5), list)\n",
    "tabAdventurers"
   ]
  },
  {
   "cell_type": "markdown",
   "metadata": {},
   "source": [
    "## Lire le fichier d'entrée"
   ]
  },
  {
   "cell_type": "code",
   "execution_count": 205,
   "metadata": {},
   "outputs": [],
   "source": [
    "def readFile(inputPath, outputPath):\n",
    "    inputFile = open(inputPath, 'r')\n",
    "    outputFile = open(outputPath, 'w')\n",
    "    outputStrAcommeA = \"# {A comme Aventurier} - {Nom de l’aventurier} - {Axe horizontal} - {Axe vertical} - {Orientation} - {Nb. trésors ramassés} \\n\"\n",
    "    global nbAdventurers\n",
    "    global tabAdventurers\n",
    "    \n",
    "    \n",
    "    while True:\n",
    "        # Get next line from file\n",
    "        line = inputFile.readline()\n",
    "        if not line:\n",
    "            print(\"break while true\")\n",
    "            break\n",
    "        \n",
    "        #print(line)\n",
    "        if re.search(\"^(A|a).*-\", line) == None:\n",
    "            if re.search(\"^(#).*{(A|a).*comme\", line):\n",
    "                print(\"MATCH # A comme ...\")\n",
    "                outputFile.write(outputStrAcommeA)\n",
    "            else:\n",
    "                #print(\"write line.\")\n",
    "                outputFile.write(line)\n",
    "            \n",
    "            \n",
    "        else:\n",
    "            nbAdventurers += 1\n",
    "            listElems = []\n",
    "            nameAdv = re.findall(\"[a-zA-Z]{2,}\", line)[0]\n",
    "            listElems.append(nameAdv)\n",
    "            columnAdv = re.findall(\"\\d+\", line)[0]\n",
    "            listElems.append(columnAdv)\n",
    "            lineAdv = re.findall(\"\\d+\", line)[1]\n",
    "            listElems.append(lineAdv)\n",
    "            orientationAdv = re.findall(\"\\s+(N|n|S|s|E|e|O|o){1}\\s+\", line)[0]\n",
    "            listElems.append(orientationAdv)\n",
    "            motionSequence = re.findall(\"[a-zA-Z]{2,}\", line)[1]\n",
    "            listElems.append(motionSequence)\n",
    "            #.append(columnAdv).append(lineAdv).append(orientationAdv).append(motionSequence)\n",
    "            print(listElems)\n",
    "            indice = nbAdventurers-1\n",
    "            #print(\"indice : \" + str(indice))\n",
    "            #tabAdventurers[indice] = listElems  #.append(columnAdv).append(lineAdv).append(orientationAdv).append(motionSequence)\n",
    "            #timTab = np.append(timTab, np.array([[1,2,3,4,5]]), axis=0)\n",
    "            tabAdventurers = np.append(tabAdventurers, np.array([listElems]), axis=0)\n",
    "                        \n",
    "            print(\"output character\")\n",
    "            txtAname = str(re.findall(\"^A|a.*-.*-\", line)) + \"{{coordonnées}} {{nb trésors trouvés}}\"\n",
    "            outputFile.write(txtAname)\n",
    "            \n",
    "            #print(\"# nb adventurers : \" + str(nbAdventurers))\n",
    "            #print(\"name : \" + str(nameAdv))\n",
    "            #print(\"column number : \" + str(columnAdv))\n",
    "            #print(\"line number : \" + str(lineAdv))\n",
    "            #print(\"orientation : \"+str(orientationAdv))\n",
    "            #print(\"motion sequence :\"+str(motionSequence))\n",
    "               \n",
    "    for item in tabAdventurers:\n",
    "        print(\"item :: \" + item)            \n",
    "    inputFile.close()\n",
    "    outputFile.close()\n",
    "    print(\"all files closed\")"
   ]
  },
  {
   "cell_type": "code",
   "execution_count": 206,
   "metadata": {},
   "outputs": [],
   "source": [
    "#np.ndarray?"
   ]
  },
  {
   "cell_type": "code",
   "execution_count": 207,
   "metadata": {},
   "outputs": [
    {
     "name": "stdout",
     "output_type": "stream",
     "text": [
      "MATCH # A comme ...\n",
      "['Indiana', '1', '1', 'S', 'AADADA']\n",
      "indice : 0\n",
      "output character\n",
      "# nb adventurers : 1\n",
      "name : Indiana\n",
      "column number : 1\n",
      "line number : 1\n",
      "orientation : S\n",
      "motion sequence :AADADA\n",
      "['Tim', '2', '3', 'N', 'AAGAGA']\n",
      "indice : 1\n",
      "output character\n",
      "# nb adventurers : 2\n",
      "name : Tim\n",
      "column number : 2\n",
      "line number : 3\n",
      "orientation : N\n",
      "motion sequence :AAGAGA\n",
      "break while true\n",
      "['item :: Indiana' 'item :: 1' 'item :: 1' 'item :: S' 'item :: AADADA']\n",
      "['item :: Tim' 'item :: 2' 'item :: 3' 'item :: N' 'item :: AAGAGA']\n",
      "all files closed\n"
     ]
    }
   ],
   "source": [
    "cheminEntree = './ressources/input01.carte'\n",
    "cheminSortie = './ressources/output01.carte'\n",
    "readFile(cheminEntree, cheminSortie)"
   ]
  },
  {
   "cell_type": "code",
   "execution_count": 208,
   "metadata": {},
   "outputs": [
    {
     "name": "stdout",
     "output_type": "stream",
     "text": [
      "2\n"
     ]
    }
   ],
   "source": [
    "print(nbAdventurers)"
   ]
  },
  {
   "cell_type": "code",
   "execution_count": 209,
   "metadata": {},
   "outputs": [
    {
     "name": "stdout",
     "output_type": "stream",
     "text": [
      "['Indiana' '1' '1' 'S' 'AADADA']\n",
      "['Tim' '2' '3' 'N' 'AAGAGA']\n"
     ]
    }
   ],
   "source": [
    "for item in tabAdventurers:\n",
    "    print(item)\n",
    "def doSimulation(nbAdventurers, tabAdventurers):\n",
    "    print(\"Simulation...\")"
   ]
  },
  {
   "cell_type": "code",
   "execution_count": null,
   "metadata": {},
   "outputs": [],
   "source": []
  }
 ],
 "metadata": {
  "kernelspec": {
   "display_name": "Python 3",
   "language": "python",
   "name": "python3"
  },
  "language_info": {
   "codemirror_mode": {
    "name": "ipython",
    "version": 3
   },
   "file_extension": ".py",
   "mimetype": "text/x-python",
   "name": "python",
   "nbconvert_exporter": "python",
   "pygments_lexer": "ipython3",
   "version": "3.7.3"
  }
 },
 "nbformat": 4,
 "nbformat_minor": 2
}
