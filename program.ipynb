{
 "cells": [
  {
   "cell_type": "markdown",
   "metadata": {},
   "source": [
    "# Contexte\n",
    "Le gouvernement péruvien vient d’autoriser les aventuriers en quête de trésors à explorer les 85 182\n",
    "km² du département de la Madre de Dios. Vous devez réaliser un système permettant de suivre les\n",
    "déplacements et les collectes de trésors effectuées par les aventuriers. Le gouvernement péruvien\n",
    "étant très à cheval sur les bonnes pratiques de code, il est important de réaliser un code de qualité,\n",
    "lisible, et maintenable (oui, ça veut dire avec des tests) !"
   ]
  },
  {
   "cell_type": "code",
   "execution_count": 57,
   "metadata": {},
   "outputs": [],
   "source": [
    "import re\n",
    "import numpy as np\n",
    "#from numpy import zeros,array"
   ]
  },
  {
   "cell_type": "code",
   "execution_count": 58,
   "metadata": {},
   "outputs": [
    {
     "name": "stdout",
     "output_type": "stream",
     "text": [
      "[]\n"
     ]
    }
   ],
   "source": [
    "nbAdventurers = 0\n",
    "tabAdventurers = []    # np.empty((2,5), list)\n",
    "print(tabAdventurers)\n",
    "gameMap = None"
   ]
  },
  {
   "cell_type": "markdown",
   "metadata": {},
   "source": [
    "## Lire le fichier d'entrée"
   ]
  },
  {
   "cell_type": "code",
   "execution_count": 59,
   "metadata": {},
   "outputs": [],
   "source": [
    "def readFile(inputPath, outputPath):\n",
    "    inputFile = open(inputPath, 'r')\n",
    "    outputFile = open(outputPath, 'w')\n",
    "    outputStrAcommeA = \"# {A comme Aventurier} - {Nom de l’aventurier} - {Axe horizontal} - {Axe vertical} - {Orientation} - {Nb. trésors ramassés} \\n\"\n",
    "    global nbAdventurers\n",
    "    global tabAdventurers\n",
    "    nbCellsWidth = 0\n",
    "    nbCellsHeight = 0\n",
    "    global gameMap\n",
    "    xMontain = None\n",
    "    yMontain = None\n",
    "    xTreasure = None\n",
    "    yTreasure = None\n",
    "    nbTreasures = None\n",
    "    \n",
    "    \n",
    "    while True:\n",
    "        # Get next line from file\n",
    "        line = inputFile.readline()\n",
    "        if not line:\n",
    "            print(\"break while true\")\n",
    "            break\n",
    "        \n",
    "        #print(line)\n",
    "        if re.search(\"^(A|a).*-\", line) == None:\n",
    "            if re.search(\"^(#).*{(A|a).*comme\", line):\n",
    "                outputFile.write(outputStrAcommeA)\n",
    "            else:\n",
    "                # Carte\n",
    "                if re.search(\"^(C|c).*-.*\\d\", line):\n",
    "                    nbCellsWidth = int(re.findall(\"\\d+\", line)[0])\n",
    "                    nbCellsHeight = int(re.findall(\"\\d+\", line)[1])\n",
    "                    gameMap = np.empty((nbCellsHeight,nbCellsWidth), list)\n",
    "                # Montagne    \n",
    "                if re.search(\"^(M|m).*-.*\\d\", line):\n",
    "                    xMontain = int(re.findall(\"\\d+\", line)[0])\n",
    "                    yMontain = int(re.findall(\"\\d+\", line)[1])\n",
    "                    gameMap[yMontain][xMontain] = \"M\"\n",
    "                # Trésor\n",
    "                if re.search(\"^(T|t).*-.*\\d\", line):\n",
    "                    xTreasure = int(re.findall(\"\\d+\", line)[0])\n",
    "                    print(\"x treasure : \" + str(xTreasure))\n",
    "                    yTreasure = int(re.findall(\"\\d+\", line)[1])\n",
    "                    print(\"y treasure : \" + str(yTreasure))\n",
    "                    nbTreasures = int(re.findall(\"\\d+\", line)[2])\n",
    "                    print(\"nb treasure : \" + str(nbTreasures))\n",
    "                    gameMap[yTreasure][xTreasure] = [\"T\", nbTreasures]\n",
    "                                          \n",
    "                print(\"write line.\")\n",
    "                print(line)\n",
    "                outputFile.write(line)\n",
    "            \n",
    "            \n",
    "        else:\n",
    "            # Adventurer(s)\n",
    "            nbAdventurers += 1\n",
    "            listElems = []\n",
    "            listElems.append(\"A\")\n",
    "            nameAdv = re.findall(\"[a-zA-Z]{2,}\", line)[0]\n",
    "            listElems.append(nameAdv)\n",
    "            columnAdv = int(re.findall(\"\\d+\", line)[0])\n",
    "            listElems.append(columnAdv)\n",
    "            lineAdv = int(re.findall(\"\\d+\", line)[1])\n",
    "            listElems.append(lineAdv)\n",
    "            orientationAdv = re.findall(\"\\s+(N|n|S|s|E|e|O|o){1}\\s+\", line)[0]\n",
    "            listElems.append(orientationAdv)\n",
    "            motionSequence = re.findall(\"[a-zA-Z]{2,}\", line)[1]\n",
    "            listElems.append(motionSequence)\n",
    "            nbTreasuresFound = 0\n",
    "            listElems.append(nbTreasuresFound)\n",
    "            #.append(columnAdv).append(lineAdv).append(orientationAdv).append(motionSequence)\n",
    "            print(listElems)\n",
    "            indice = nbAdventurers-1\n",
    "            #print(\"indice : \" + str(indice))\n",
    "            #tabAdventurers[indice] = listElems  #.append(columnAdv).append(lineAdv).append(orientationAdv).append(motionSequence)\n",
    "            tabAdventurers.append(listElems)\n",
    "            print(tabAdventurers[0])\n",
    "            #timTab = np.append(timTab, np.array([[1,2,3,4,5]]), axis=0)\n",
    "            #tabAdventurers = np.append(tabAdventurers, np.array([listElems]), axis=0)\n",
    "            gameMap[lineAdv][columnAdv] = listElems\n",
    "                        \n",
    "            print(\"output character\")\n",
    "            txtAname = str(re.findall(\"^A|a.*-.*-\", line)) #+ \"{{coordonnées}} {{nb trésors trouvés}}\"\n",
    "            outputFile.write(txtAname)\n",
    "            \n",
    "            #print(\"# nb adventurers : \" + str(nbAdventurers))\n",
    "            #print(\"name : \" + str(nameAdv))\n",
    "            #print(\"column number : \" + str(columnAdv))\n",
    "            #print(\"line number : \" + str(lineAdv))\n",
    "            #print(\"orientation : \"+str(orientationAdv))\n",
    "            #print(\"motion sequence :\"+str(motionSequence))\n",
    "               \n",
    "    for item in tabAdventurers:\n",
    "        print(\"item :: \" + str(item))            \n",
    "    inputFile.close()\n",
    "    outputFile.close()\n",
    "    print(\"all files closed\")\n",
    "    \n",
    "    print(\"gameMap\")\n",
    "    print(\".....................\")\n",
    "    print(gameMap)"
   ]
  },
  {
   "cell_type": "code",
   "execution_count": 60,
   "metadata": {},
   "outputs": [],
   "source": [
    "cheminEntree = './ressources/input02.carte'\n",
    "cheminSortie = './ressources/output02.carte'"
   ]
  },
  {
   "cell_type": "code",
   "execution_count": 61,
   "metadata": {},
   "outputs": [
    {
     "name": "stdout",
     "output_type": "stream",
     "text": [
      "write line.\n",
      "# {C comme Carte} - {Nb. de case en largeur} - {Nb. de case en hauteur}\n",
      "\n",
      "write line.\n",
      "C - 3 - 4\n",
      "\n",
      "write line.\n",
      "# {M comme Montagne} - {Axe horizontal} - {Axe vertical}\n",
      "\n",
      "write line.\n",
      "M - 0 - 2\n",
      "\n",
      "['A', 'Indiana', 1, 1, 'S', 'AADADA', 0]\n",
      "['A', 'Indiana', 1, 1, 'S', 'AADADA', 0]\n",
      "output character\n",
      "break while true\n",
      "item :: ['A', 'Indiana', 1, 1, 'S', 'AADADA', 0]\n",
      "all files closed\n",
      "gameMap\n",
      ".....................\n",
      "[[None None None]\n",
      " [None list(['A', 'Indiana', 1, 1, 'S', 'AADADA', 0]) None]\n",
      " ['M' None None]\n",
      " [None None None]]\n"
     ]
    }
   ],
   "source": [
    "readFile(cheminEntree, cheminSortie)"
   ]
  },
  {
   "cell_type": "code",
   "execution_count": 62,
   "metadata": {},
   "outputs": [
    {
     "name": "stdout",
     "output_type": "stream",
     "text": [
      "[['A', 'Indiana', 1, 1, 'S', 'AADADA', 0]]\n",
      "nb Adventurers : 1\n",
      "[[None None None]\n",
      " [None list(['A', 'Indiana', 1, 1, 'S', 'AADADA', 0]) None]\n",
      " ['M' None None]\n",
      " [None None None]]\n"
     ]
    }
   ],
   "source": [
    "print(tabAdventurers)\n",
    "print(\"nb Adventurers :\", nbAdventurers)\n",
    "print(gameMap)"
   ]
  },
  {
   "cell_type": "code",
   "execution_count": 68,
   "metadata": {},
   "outputs": [],
   "source": [
    "def isInsideMap(y=int,x=int):\n",
    "    gameMapHeight = gameMap.shape[0]\n",
    "    gameMapWidth = gameMap.shape[1]\n",
    "    \n",
    "    if y < gameMapHeight and y >= 0 and x < gameMapWidth and x >= 0:\n",
    "        return True\n",
    "    else:\n",
    "        return False"
   ]
  },
  {
   "cell_type": "code",
   "execution_count": null,
   "metadata": {},
   "outputs": [],
   "source": [
    "def getNewOrientation(orientation,nextMovement):\n",
    "    if nextMovement != 'A':\n",
    "        \n",
    "        if nextMovement == 'D':\n",
    "            if orientation == 'N':\n",
    "                orientation = 'E'\n",
    "            elif orientation == 'S':\n",
    "                orientation = 'O'\n",
    "            elif orientation == 'E':\n",
    "                orientation = 'S'\n",
    "            elif orientation == 'O'\n",
    "                orientation = 'N'\n",
    "        elif nextMovement == 'G':\n",
    "            ..."
   ]
  },
  {
   "cell_type": "code",
   "execution_count": 69,
   "metadata": {},
   "outputs": [],
   "source": [
    "def doSimulation(nbAdventurers, tabAdventurers, gameMap):\n",
    "    gmHeight = gameMap.shape[0]\n",
    "    gmWidth = gameMap.shape[1]\n",
    "    print(\"Simulation...\")\n",
    "    \n",
    "    while True:\n",
    "        for i in range(len(tabAdventurers)):\n",
    "            print(tabAdventurers[i])\n",
    "            print(\"next move \")\n",
    "            print(tabAdventurers[i][5])\n",
    "            peopleName = tabAdventurers[i][1]\n",
    "            coordX = int(tabAdventurers[i][2])\n",
    "            coordY = int(tabAdventurers[i][3])\n",
    "            orientation = tabAdventurers[i][4]\n",
    "            movementsList = tabAdventurers[i][5]\n",
    "            if movementsList:\n",
    "                nextMovement = movementsList[0]\n",
    "            else:\n",
    "                 break\n",
    "            print(peopleName)\n",
    "            print(orientation)\n",
    "            print(nextMovement)\n",
    "            if len(movementsList) >= 1:\n",
    "                \n",
    "                # Fonction orientationChange(actualOrientation,movement)\n",
    "                # 'D' or 'G'\n",
    "                \n",
    "                        \n",
    "                            \n",
    "                if orientation == 'S':\n",
    "                    newCoordY = coordY + 1\n",
    "                    # Cell is empty\n",
    "                    # if (newCoordY < gmHeight)\n",
    "                    if isInsideMap(newCoordY,coordX) and gameMap[newCoordY][coordX] == None:\n",
    "                        gameMap[coordY][coordX] = None\n",
    "                        tabAdventurers[i][3] = newCoordY\n",
    "                        tabAdventurers[i][5] = tabAdventurers[i][5][1:]\n",
    "                        gameMap[newCoordY][coordX] = tabAdventurers[i]\n",
    "                    # Treasure in cell\n",
    "                    #if \n",
    "                \n",
    "            #for elm in range(len(tabAdventurers[i][5])):\n",
    "            #tabAdventurers[i][5] = tabAdventurers[i][5][1:]   # [1:]\n",
    "            #print(tabAdventurers[i][5])\n",
    "        #break"
   ]
  },
  {
   "cell_type": "code",
   "execution_count": 70,
   "metadata": {},
   "outputs": [
    {
     "name": "stdout",
     "output_type": "stream",
     "text": [
      "Simulation...\n",
      "['A', 'Indiana', 1, 1, 'S', 'AADADA', 0]\n",
      "next move \n",
      "AADADA\n",
      "Indiana\n",
      "S\n",
      "A\n"
     ]
    }
   ],
   "source": [
    "doSimulation(nbAdventurers, tabAdventurers, gameMap)"
   ]
  },
  {
   "cell_type": "code",
   "execution_count": 71,
   "metadata": {},
   "outputs": [
    {
     "data": {
      "text/plain": [
       "[['A', 'Indiana', 1, 2, 'S', 'ADADA', 0]]"
      ]
     },
     "execution_count": 71,
     "metadata": {},
     "output_type": "execute_result"
    }
   ],
   "source": [
    "tabAdventurers"
   ]
  },
  {
   "cell_type": "code",
   "execution_count": 72,
   "metadata": {},
   "outputs": [
    {
     "data": {
      "text/plain": [
       "array([[None, None, None],\n",
       "       [None, None, None],\n",
       "       ['M', list(['A', 'Indiana', 1, 2, 'S', 'ADADA', 0]), None],\n",
       "       [None, None, None]], dtype=object)"
      ]
     },
     "execution_count": 72,
     "metadata": {},
     "output_type": "execute_result"
    }
   ],
   "source": [
    "gameMap"
   ]
  },
  {
   "cell_type": "code",
   "execution_count": null,
   "metadata": {},
   "outputs": [],
   "source": []
  },
  {
   "cell_type": "code",
   "execution_count": null,
   "metadata": {},
   "outputs": [],
   "source": []
  }
 ],
 "metadata": {
  "kernelspec": {
   "display_name": "Python 3",
   "language": "python",
   "name": "python3"
  },
  "language_info": {
   "codemirror_mode": {
    "name": "ipython",
    "version": 3
   },
   "file_extension": ".py",
   "mimetype": "text/x-python",
   "name": "python",
   "nbconvert_exporter": "python",
   "pygments_lexer": "ipython3",
   "version": "3.7.3"
  }
 },
 "nbformat": 4,
 "nbformat_minor": 2
}
