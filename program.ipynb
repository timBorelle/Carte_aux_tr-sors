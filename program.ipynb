{
 "cells": [
  {
   "cell_type": "markdown",
   "metadata": {},
   "source": [
    "# Contexte\n",
    "Le gouvernement péruvien vient d’autoriser les aventuriers en quête de trésors à explorer les 85 182\n",
    "km² du département de la Madre de Dios. Vous devez réaliser un système permettant de suivre les\n",
    "déplacements et les collectes de trésors effectuées par les aventuriers. Le gouvernement péruvien\n",
    "étant très à cheval sur les bonnes pratiques de code, il est important de réaliser un code de qualité,\n",
    "lisible, et maintenable (oui, ça veut dire avec des tests) !"
   ]
  },
  {
   "cell_type": "code",
   "execution_count": 1,
   "metadata": {},
   "outputs": [],
   "source": [
    "import re\n",
    "import numpy as np\n",
    "#from numpy import zeros,array"
   ]
  },
  {
   "cell_type": "code",
   "execution_count": 62,
   "metadata": {},
   "outputs": [
    {
     "name": "stdout",
     "output_type": "stream",
     "text": [
      "[]\n"
     ]
    }
   ],
   "source": [
    "nbAdventurers = 0\n",
    "tabAdventurers = []    # np.empty((2,5), list)\n",
    "print(tabAdventurers)\n",
    "gameMap = None"
   ]
  },
  {
   "cell_type": "markdown",
   "metadata": {},
   "source": [
    "## Lire le fichier d'entrée"
   ]
  },
  {
   "cell_type": "code",
   "execution_count": 63,
   "metadata": {},
   "outputs": [],
   "source": [
    "def readFile(inputPath, outputPath):\n",
    "    inputFile = open(inputPath, 'r')\n",
    "    outputFile = open(outputPath, 'w')\n",
    "    outputStrAcommeA = \"# {A comme Aventurier} - {Nom de l’aventurier} - {Axe horizontal} - {Axe vertical} - {Orientation} - {Nb. trésors ramassés} \\n\"\n",
    "    global nbAdventurers\n",
    "    global tabAdventurers\n",
    "    nbCellsWidth = 0\n",
    "    nbCellsHeight = 0\n",
    "    global gameMap\n",
    "    xMontain = None\n",
    "    yMontain = None\n",
    "    xTreasure = None\n",
    "    yTreasure = None\n",
    "    nbTreasures = None\n",
    "    \n",
    "    \n",
    "    while True:\n",
    "        # Get next line from file\n",
    "        line = inputFile.readline()\n",
    "        if not line:\n",
    "            print(\"break while true\")\n",
    "            break\n",
    "        \n",
    "        #print(line)\n",
    "        if re.search(\"^(A|a).*-\", line) == None:\n",
    "            if re.search(\"^(#).*{(A|a).*comme\", line):\n",
    "                outputFile.write(outputStrAcommeA)\n",
    "            elif re.search(\"^(#).*{(T|t).*comme\", line):\n",
    "                commentT = \"# {T comme Trésor} - {Axe horizontal} - {Axe vertical} - {Nb. de trésors restants}\"\n",
    "                outputFile.write(commentT)\n",
    "            else:\n",
    "                # Carte\n",
    "                if re.search(\"^(C|c).*-.*\\d\", line):\n",
    "                    nbCellsWidth = int(re.findall(\"\\d+\", line)[0])\n",
    "                    nbCellsHeight = int(re.findall(\"\\d+\", line)[1])\n",
    "                    gameMap = np.empty((nbCellsHeight,nbCellsWidth), list)\n",
    "                    outputFile.write(line)\n",
    "                # Montagne    \n",
    "                if re.search(\"^(M|m).*-.*\\d\", line):\n",
    "                    xMontain = int(re.findall(\"\\d+\", line)[0])\n",
    "                    yMontain = int(re.findall(\"\\d+\", line)[1])\n",
    "                    gameMap[yMontain][xMontain] = \"M\"\n",
    "                    outputFile.write(line)\n",
    "                # Trésor\n",
    "                if re.search(\"^(T|t).*-.*\\d\", line):\n",
    "                    xTreasure = int(re.findall(\"\\d+\", line)[0])\n",
    "                    #print(\"x treasure : \" + str(xTreasure))\n",
    "                    yTreasure = int(re.findall(\"\\d+\", line)[1])\n",
    "                    #print(\"y treasure : \" + str(yTreasure))\n",
    "                    nbTreasures = int(re.findall(\"\\d+\", line)[2])\n",
    "                    #print(\"nb treasure : \" + str(nbTreasures))\n",
    "                    gameMap[yTreasure][xTreasure] = [\"T\", xTreasure, yTreasure, nbTreasures]\n",
    "                    #outputFile.write(line)\n",
    "                                          \n",
    "                #print(\"write line.\")\n",
    "                #print(line)\n",
    "                #outputFile.write(line)\n",
    "            \n",
    "            \n",
    "        else:\n",
    "            # Adventurer(s)\n",
    "            nbAdventurers += 1\n",
    "            listElems = []\n",
    "            listElems.append(\"A\")\n",
    "            nameAdv = re.findall(\"[a-zA-Z]{2,}\", line)[0]\n",
    "            listElems.append(nameAdv)\n",
    "            columnAdv = int(re.findall(\"\\d+\", line)[0])\n",
    "            listElems.append(columnAdv)\n",
    "            lineAdv = int(re.findall(\"\\d+\", line)[1])\n",
    "            listElems.append(lineAdv)\n",
    "            orientationAdv = re.findall(\"\\s+(N|n|S|s|E|e|O|o){1}\\s+\", line)[0]\n",
    "            listElems.append(orientationAdv)\n",
    "            motionSequence = re.findall(\"[a-zA-Z]{2,}\", line)[1]\n",
    "            listElems.append(motionSequence)\n",
    "            nbTreasuresFound = 0\n",
    "            listElems.append(nbTreasuresFound)\n",
    "            print(listElems)\n",
    "            indice = nbAdventurers-1\n",
    "            tabAdventurers.append(listElems)\n",
    "            print(tabAdventurers[0])\n",
    "            gameMap[lineAdv][columnAdv] = listElems\n",
    "                        \n",
    "            print(\"output character\")\n",
    "            txtAname = str(re.findall(\"^A|a.*-.*-\", line)) #+ \"{{coordonnées}} {{nb trésors trouvés}}\"\n",
    "            outputFile.write(txtAname)\n",
    "            \n",
    "            #print(\"# nb adventurers : \" + str(nbAdventurers))\n",
    "            #print(\"name : \" + str(nameAdv))\n",
    "            #print(\"column number : \" + str(columnAdv))\n",
    "            #print(\"line number : \" + str(lineAdv))\n",
    "            #print(\"orientation : \"+str(orientationAdv))\n",
    "            #print(\"motion sequence :\"+str(motionSequence))\n",
    "               \n",
    "    #for item in tabAdventurers:\n",
    "        #print(\"item :: \" + str(item))            \n",
    "    inputFile.close()\n",
    "    outputFile.close()\n",
    "    print(\"all files closed\")\n",
    "    \n",
    "    print(\"gameMap\")\n",
    "    print(\".....................\")\n",
    "    print(gameMap)"
   ]
  },
  {
   "cell_type": "code",
   "execution_count": 64,
   "metadata": {},
   "outputs": [],
   "source": [
    "cheminEntree = './ressources/input01.map'\n",
    "cheminSortie = './ressources/output01.map'"
   ]
  },
  {
   "cell_type": "code",
   "execution_count": 65,
   "metadata": {
    "scrolled": true
   },
   "outputs": [
    {
     "name": "stdout",
     "output_type": "stream",
     "text": [
      "break while true\n",
      "all files closed\n",
      "gameMap\n",
      ".....................\n",
      "[[None None None]\n",
      " [None 'M' None]\n",
      " [None None 'M']\n",
      " [list(['T', 0, 3, 2]) list(['T', 1, 3, 1]) None]]\n"
     ]
    }
   ],
   "source": [
    "readFile(cheminEntree, cheminSortie)"
   ]
  },
  {
   "cell_type": "code",
   "execution_count": 66,
   "metadata": {},
   "outputs": [
    {
     "name": "stdout",
     "output_type": "stream",
     "text": [
      "[]\n",
      "nb Adventurers : 0\n",
      "[[None None None]\n",
      " [None 'M' None]\n",
      " [None None 'M']\n",
      " [list(['T', 0, 3, 2]) list(['T', 1, 3, 1]) None]]\n"
     ]
    }
   ],
   "source": [
    "print(tabAdventurers)\n",
    "print(\"nb Adventurers :\", nbAdventurers)\n",
    "print(gameMap)"
   ]
  },
  {
   "cell_type": "code",
   "execution_count": 67,
   "metadata": {},
   "outputs": [],
   "source": [
    "def isInsideMap(y=int,x=int):\n",
    "    gameMapHeight = gameMap.shape[0]\n",
    "    gameMapWidth = gameMap.shape[1]\n",
    "    \n",
    "    if y < gameMapHeight and y >= 0 and x < gameMapWidth and x >= 0:\n",
    "        return True\n",
    "    else:\n",
    "        return False"
   ]
  },
  {
   "cell_type": "code",
   "execution_count": 68,
   "metadata": {},
   "outputs": [],
   "source": [
    "def getNewOrientation(orientation,nextMovement):\n",
    "    if nextMovement != 'A':\n",
    "        \n",
    "        if nextMovement == 'D':\n",
    "            if orientation == 'N':\n",
    "                orientation = 'E'\n",
    "            elif orientation == 'S':\n",
    "                orientation = 'O'\n",
    "            elif orientation == 'E':\n",
    "                orientation = 'S'\n",
    "            elif orientation == 'O':\n",
    "                orientation = 'N'\n",
    "        elif nextMovement == 'G':\n",
    "            if orientation == 'N':\n",
    "                orientation = '0'\n",
    "            elif orientation == 'S':\n",
    "                orientation = 'E'\n",
    "            elif orientation == 'E':\n",
    "                orientation = 'N'\n",
    "            elif orientation == 'O':\n",
    "                orientation = 'S'\n",
    "            \n",
    "    return orientation"
   ]
  },
  {
   "cell_type": "code",
   "execution_count": 71,
   "metadata": {},
   "outputs": [],
   "source": [
    "def doSimulation(nbAdventurers, tabAdventurers, gameMap):\n",
    "    gmHeight = gameMap.shape[0]\n",
    "    gmWidth = gameMap.shape[1]\n",
    "    print(\"Simulation...\")\n",
    "    nbAdvNoMov = 0\n",
    "    infLoop = True\n",
    "    \n",
    "    while infLoop:\n",
    "        for i in range(len(tabAdventurers)):\n",
    "            print(tabAdventurers[i])\n",
    "            print(\"next move \")\n",
    "            print(tabAdventurers[i][5])\n",
    "            peopleName = tabAdventurers[i][1]\n",
    "            coordX = int(tabAdventurers[i][2])\n",
    "            coordY = int(tabAdventurers[i][3])\n",
    "            orientation = tabAdventurers[i][4]\n",
    "            movementsList = tabAdventurers[i][5]\n",
    "            if movementsList:\n",
    "                nextMovement = movementsList[0]\n",
    "            else:\n",
    "                #print(\"BREAKKKKKKKKKK !!!!!!!!!!!!!!!\")\n",
    "                #break\n",
    "                nbAdvNoMov = nbAdvNoMov +1\n",
    "                if nbAdvNoMov == nbAdventurers:\n",
    "                    infLoop = False\n",
    "                    break\n",
    "                    \n",
    "            print(peopleName)\n",
    "            #print(orientation)\n",
    "            #print(nextMovement)\n",
    "            \n",
    "            if len(movementsList) >= 1:\n",
    "                \n",
    "                # Fonction orientationChange(actualOrientation,movement)   'D' or 'G'\n",
    "                newOrientation = getNewOrientation(orientation,nextMovement)\n",
    "                if orientation != newOrientation:\n",
    "                    tabAdventurers[i][4] = newOrientation\n",
    "        \n",
    "                if newOrientation == 'S':\n",
    "                    newCoordY = coordY + 1\n",
    "                    newCoordX = coordX\n",
    "                    #coordY = coordY + 1\n",
    "                elif newOrientation == 'E':\n",
    "                    newCoordX = coordX + 1\n",
    "                    newCoordY = coordY\n",
    "                    #coordX = coordX + 1\n",
    "                elif newOrientation == 'N':\n",
    "                    newCoordY = coordY - 1\n",
    "                    newCoordX = coordX\n",
    "                    #coordY = coordY - 1\n",
    "                elif newOrientation == 'O':\n",
    "                    newCoordX = coordX - 1\n",
    "                    newCoordY = coordY\n",
    "                    #coordX = coordX - 1\n",
    "                    \n",
    "                # Cell is empty\n",
    "                if isInsideMap(newCoordY,newCoordX) and gameMap[newCoordY][newCoordX] == None:\n",
    "                    gameMap[coordY][coordX] = None\n",
    "                    tabAdventurers[i][3] = newCoordY # coordY    # newCoordY\n",
    "                    tabAdventurers[i][2] = newCoordX # add 23:01\n",
    "                    # remove movement\n",
    "                    tabAdventurers[i][5] = tabAdventurers[i][5][1:]\n",
    "                    #gameMap[newCoordY][newCoordX] = tabAdventurers[i]\n",
    "                # Treasure in cell\n",
    "                elif isInsideMap(newCoordY,newCoordX) and gameMap[newCoordY][newCoordX][0] == 'T':\n",
    "                    nbTreasures = int(gameMap[newCoordY][newCoordX][3])\n",
    "                    if nbTreasures >= 1:\n",
    "                        tabAdventurers[i][6] = tabAdventurers[i][6] + 1\n",
    "                        gameMap[coordY][coordX][3] = int(gameMap[coordY][coordX][3]) - 1\n",
    "                    # remove movement\n",
    "                    tabAdventurers[i][5] = tabAdventurers[i][5][1:]\n",
    "                else:\n",
    "                    # Cell is a mountain\n",
    "                    # remove movement\n",
    "                    tabAdventurers[i][5] = tabAdventurers[i][5][1:]\n",
    "                    \n",
    "                # remove movement\n",
    "                #tabAdventurers[i][5] = tabAdventurers[i][5][1:]\n",
    "                #gameMap[newCoordY][newCoordX] = tabAdventurers[i]                    \n",
    "                \n",
    "            #for elm in range(len(tabAdventurers[i][5])):\n",
    "            #tabAdventurers[i][5] = tabAdventurers[i][5][1:]   # [1:]\n",
    "            #print(tabAdventurers[i][5])\n",
    "        if nbAdvNoMov == nbAdventurers:\n",
    "            infLoop = False\n",
    "        #break\n",
    "        \n",
    "    # Write output file\n",
    "    with open(cheminSortie, \"a+\") as file_output:\n",
    "        #commentTreasure = \"# {T comme Trésor} - {Axe horizontal} - {Axe vertical} - {Nb. de trésors restants}\"\n",
    "        #file_output.write(\"\\n\")\n",
    "        #file_output.write(commentTreasure)\n",
    "        file_output.write(\"\\n\")\n",
    "        for i in range(gmHeight):\n",
    "            for j in range(gmWidth):\n",
    "                print(\"i,j : \", i,j)\n",
    "                if gameMap[i][j]:\n",
    "                    #print(\"gameMap[i][j] != None !!!\")\n",
    "                    #print(gameMap[i][j])\n",
    "                    #print(gameMap[i][j][0])\n",
    "                    if gameMap[i][j][0] == 'T':\n",
    "                        strTreasure = str(gameMap[i][j]).strip('[]')\n",
    "                        strTreasure = str(strTreasure.replace(',',' -'))\n",
    "                        strTreasure = str(strTreasure.replace('\\'',''))\n",
    "                        file_output.write(strTreasure)\n",
    "                        file_output.write(\"\\n\")\n",
    "                    \n",
    "        #file_output.write()\n",
    "        \n",
    "        if len(tabAdventurers) >= 1:\n",
    "            commentA = \"# {A comme Aventurier} - {Nom de l’aventurier} - {Axe horizontal} - {Axe vertical} - {Orientation} - {Nb. trésors ramassés}\"\n",
    "            file_output.write(\"\\n\")\n",
    "            file_output.write(commentA)\n",
    "            for i in range(gmHeight):\n",
    "                for j in range(gmWidth):\n",
    "                    if gameMap[i][j] != None:\n",
    "                        if gameMap[i][j][0] == 'A':\n",
    "                            strAdventurer = str(gameMap[i][j]).strip('[]')\n",
    "                            strAdventurer = str(strAdventurer.replace(',','-'))\n",
    "                            file_output.write(strAdventurer)\n",
    "            \n",
    "        file_output.close()\n",
    "    print(\"RETURNNnnnnnnnnn !!!!!!!!!!!!!!! §§§§§§§\")\n",
    "    return"
   ]
  },
  {
   "cell_type": "code",
   "execution_count": 72,
   "metadata": {},
   "outputs": [
    {
     "name": "stdout",
     "output_type": "stream",
     "text": [
      "Simulation...\n",
      "i,j :  0 0\n",
      "i,j :  0 1\n",
      "i,j :  0 2\n",
      "i,j :  1 0\n",
      "i,j :  1 1\n",
      "i,j :  1 2\n",
      "i,j :  2 0\n",
      "i,j :  2 1\n",
      "i,j :  2 2\n",
      "i,j :  3 0\n",
      "i,j :  3 1\n",
      "i,j :  3 2\n",
      "RETURNNnnnnnnnnn !!!!!!!!!!!!!!! §§§§§§§\n"
     ]
    }
   ],
   "source": [
    "doSimulation(nbAdventurers, tabAdventurers, gameMap)"
   ]
  },
  {
   "cell_type": "code",
   "execution_count": 57,
   "metadata": {},
   "outputs": [
    {
     "name": "stdout",
     "output_type": "stream",
     "text": [
      "4\n",
      "3\n"
     ]
    }
   ],
   "source": [
    "gmHeight = gameMap.shape[0]\n",
    "print(gmHeight)\n",
    "gmWidth = gameMap.shape[1]\n",
    "print(gmWidth)\n",
    "\n",
    "#for i in range(gmHeight):\n",
    "    #for j in range(gmWidth):\n",
    "        #print(i, j)"
   ]
  },
  {
   "cell_type": "code",
   "execution_count": 40,
   "metadata": {},
   "outputs": [
    {
     "data": {
      "text/plain": [
       "[]"
      ]
     },
     "execution_count": 40,
     "metadata": {},
     "output_type": "execute_result"
    }
   ],
   "source": [
    "tabAdventurers"
   ]
  },
  {
   "cell_type": "code",
   "execution_count": 41,
   "metadata": {},
   "outputs": [
    {
     "data": {
      "text/plain": [
       "array([[None, None, None],\n",
       "       [None, 'M', None],\n",
       "       [None, None, 'M'],\n",
       "       [list(['T', 0, 3, 2]), list(['T', 1, 3, 1]), None]], dtype=object)"
      ]
     },
     "execution_count": 41,
     "metadata": {},
     "output_type": "execute_result"
    }
   ],
   "source": [
    "gameMap"
   ]
  },
  {
   "cell_type": "code",
   "execution_count": 17,
   "metadata": {},
   "outputs": [
    {
     "data": {
      "text/plain": [
       "4"
      ]
     },
     "execution_count": 17,
     "metadata": {},
     "output_type": "execute_result"
    }
   ],
   "source": [
    "len(gameMap)"
   ]
  },
  {
   "cell_type": "code",
   "execution_count": null,
   "metadata": {},
   "outputs": [],
   "source": []
  }
 ],
 "metadata": {
  "kernelspec": {
   "display_name": "Python 3",
   "language": "python",
   "name": "python3"
  },
  "language_info": {
   "codemirror_mode": {
    "name": "ipython",
    "version": 3
   },
   "file_extension": ".py",
   "mimetype": "text/x-python",
   "name": "python",
   "nbconvert_exporter": "python",
   "pygments_lexer": "ipython3",
   "version": "3.7.3"
  }
 },
 "nbformat": 4,
 "nbformat_minor": 2
}
