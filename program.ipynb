{
 "cells": [
  {
   "cell_type": "markdown",
   "metadata": {},
   "source": [
    "# Contexte\n",
    "Le gouvernement péruvien vient d’autoriser les aventuriers en quête de trésors à explorer les 85 182\n",
    "km² du département de la Madre de Dios. Vous devez réaliser un système permettant de suivre les\n",
    "déplacements et les collectes de trésors effectuées par les aventuriers. Le gouvernement péruvien\n",
    "étant très à cheval sur les bonnes pratiques de code, il est important de réaliser un code de qualité,\n",
    "lisible, et maintenable (oui, ça veut dire avec des tests) !"
   ]
  },
  {
   "cell_type": "code",
   "execution_count": 1,
   "metadata": {},
   "outputs": [],
   "source": [
    "import re\n",
    "import numpy as np"
   ]
  },
  {
   "cell_type": "markdown",
   "metadata": {},
   "source": [
    "## Lire le fichier d'entrée"
   ]
  },
  {
   "cell_type": "code",
   "execution_count": 2,
   "metadata": {},
   "outputs": [],
   "source": [
    "def readFile(inputPath, outputPath):\n",
    "    inputFile = open(inputPath, 'r')\n",
    "    outputFile = open(outputPath, 'w')\n",
    "    #outputStrAcommeA = \"# {A comme Aventurier} - {Nom de l’aventurier} - {Axe horizontal} - {Axe vertical} - {Orientation} - {Nb. trésors ramassés} \\n\"\n",
    "    global nbAdventurers\n",
    "    global tabAdventurers\n",
    "    nbCellsWidth = 0\n",
    "    nbCellsHeight = 0\n",
    "    global gameMap\n",
    "    xMontain = None\n",
    "    yMontain = None\n",
    "    xTreasure = None\n",
    "    yTreasure = None\n",
    "    nbTreasures = None\n",
    "    \n",
    "    \n",
    "    while True:\n",
    "        # Get next line from file\n",
    "        line = inputFile.readline()\n",
    "        if not line:\n",
    "            print(\"break while true\")\n",
    "            break\n",
    "        \n",
    "        #print(line)\n",
    "        if re.search(\"^(A|a).*-\", line) == None:\n",
    "            '''if re.search(\"^(#).*{(A|a).*comme\", line):\n",
    "                #outputFile.write(outputStrAcommeA)\n",
    "            elif'''\n",
    "            if re.search(\"^(#).*{(T|t).*comme\", line):\n",
    "                commentT = \"# {T comme Trésor} - {Axe horizontal} - {Axe vertical} - {Nb. de trésors restants}\"\n",
    "                outputFile.write(commentT)\n",
    "            else:\n",
    "                # Carte\n",
    "                if re.search(\"^(C|c).*-.*\\d\", line):\n",
    "                    nbCellsWidth = int(re.findall(\"\\d+\", line)[0])\n",
    "                    nbCellsHeight = int(re.findall(\"\\d+\", line)[1])\n",
    "                    gameMap = np.empty((nbCellsHeight,nbCellsWidth), list)\n",
    "                    outputFile.write(line)\n",
    "                    \n",
    "                # Montagne    \n",
    "                if re.search(\"^(M|m).*-.*\\d\", line):\n",
    "                    xMontain = int(re.findall(\"\\d+\", line)[0])\n",
    "                    yMontain = int(re.findall(\"\\d+\", line)[1])\n",
    "                    gameMap[yMontain][xMontain] = \"M\"\n",
    "                    outputFile.write(line)\n",
    "                    \n",
    "                # Trésor\n",
    "                if re.search(\"^(T|t).*-.*\\d\", line):\n",
    "                    xTreasure = int(re.findall(\"\\d+\", line)[0])\n",
    "                    #print(\"x treasure : \" + str(xTreasure))\n",
    "                    yTreasure = int(re.findall(\"\\d+\", line)[1])\n",
    "                    #print(\"y treasure : \" + str(yTreasure))\n",
    "                    nbTreasures = int(re.findall(\"\\d+\", line)[2])\n",
    "                    #print(\"nb treasure : \" + str(nbTreasures))\n",
    "                    gameMap[yTreasure][xTreasure] = [\"T\", xTreasure, yTreasure, nbTreasures]\n",
    "                    #outputFile.write(line)\n",
    "                                          \n",
    "                #print(\"write line.\")\n",
    "            \n",
    "        else:\n",
    "            # Adventurer(s)\n",
    "            nbAdventurers += 1\n",
    "            listElems = []\n",
    "            listElems.append(\"A\")\n",
    "            nameAdv = re.findall(\"[a-zA-Z]{2,}\", line)[0]\n",
    "            listElems.append(nameAdv)\n",
    "            columnAdv = int(re.findall(\"\\d+\", line)[0])\n",
    "            listElems.append(columnAdv)\n",
    "            lineAdv = int(re.findall(\"\\d+\", line)[1])\n",
    "            listElems.append(lineAdv)\n",
    "            orientationAdv = re.findall(\"\\s+(N|n|S|s|E|e|O|o){1}\\s+\", line)[0]\n",
    "            listElems.append(orientationAdv)\n",
    "            motionSequence = re.findall(\"[a-zA-Z]{2,}\", line)[1]\n",
    "            listElems.append(motionSequence)\n",
    "            nbTreasuresFound = 0\n",
    "            listElems.append(nbTreasuresFound)\n",
    "            print(listElems)\n",
    "            indice = nbAdventurers-1\n",
    "            tabAdventurers.append(listElems)\n",
    "            #print(tabAdventurers[0])\n",
    "            gameMap[lineAdv][columnAdv] = listElems\n",
    "                        \n",
    "            print(\"output character\")\n",
    "            #txtAname = str(re.findall(\"^A|a.*-.*-\", line)) #+ \"{{coordonnées}} {{nb trésors trouvés}}\"\n",
    "            #outputFile.write(txtAname)\n",
    "            \n",
    "            #print(\"# nb adventurers : \" + str(nbAdventurers))\n",
    "            #print(\"name : \" + str(nameAdv))\n",
    "            #print(\"column number : \" + str(columnAdv))\n",
    "            #print(\"line number : \" + str(lineAdv))\n",
    "            #print(\"orientation : \"+str(orientationAdv))\n",
    "            #print(\"motion sequence :\"+str(motionSequence))\n",
    "               \n",
    "    #for item in tabAdventurers:\n",
    "        #print(\"item :: \" + str(item))            \n",
    "    inputFile.close()\n",
    "    outputFile.close()\n",
    "    print(\"all files closed\")\n",
    "    \n",
    "    print(\"gameMap\")\n",
    "    print(\".....................\")\n",
    "    print(gameMap)"
   ]
  },
  {
   "cell_type": "code",
   "execution_count": 3,
   "metadata": {},
   "outputs": [],
   "source": [
    "def isInsideMap(y=int,x=int):\n",
    "    gameMapHeight = gameMap.shape[0]\n",
    "    gameMapWidth = gameMap.shape[1]\n",
    "    \n",
    "    if y < gameMapHeight and y >= 0 and x < gameMapWidth and x >= 0:\n",
    "        return True\n",
    "    else:\n",
    "        return False"
   ]
  },
  {
   "cell_type": "code",
   "execution_count": 4,
   "metadata": {},
   "outputs": [],
   "source": [
    "def getNewOrientation(orientation,nextMovement):\n",
    "    if nextMovement != 'A':\n",
    "        \n",
    "        if nextMovement == 'D':\n",
    "            if orientation == 'N':\n",
    "                orientation = 'E'\n",
    "            elif orientation == 'S':\n",
    "                orientation = 'O'\n",
    "            elif orientation == 'E':\n",
    "                orientation = 'S'\n",
    "            elif orientation == 'O':\n",
    "                orientation = 'N'\n",
    "        elif nextMovement == 'G':\n",
    "            if orientation == 'N':\n",
    "                orientation = 'O'\n",
    "            elif orientation == 'S':\n",
    "                orientation = 'E'\n",
    "            elif orientation == 'E':\n",
    "                orientation = 'N'\n",
    "            elif orientation == 'O':\n",
    "                orientation = 'S'\n",
    "            \n",
    "    return orientation"
   ]
  },
  {
   "cell_type": "code",
   "execution_count": 5,
   "metadata": {},
   "outputs": [],
   "source": [
    "def getNewCoordinates(orientation,y,x):\n",
    "    newCoordY = y\n",
    "    newCoordX = x\n",
    "    \n",
    "    if orientation == 'S':\n",
    "        newCoordY = y + 1\n",
    "    elif orientation == 'E':\n",
    "        newCoordX = x + 1\n",
    "    elif orientation == 'N':\n",
    "        newCoordY = y - 1\n",
    "    elif orientation == 'O':\n",
    "        newCoordX = x - 1\n",
    "    \n",
    "    return newCoordY, newCoordX"
   ]
  },
  {
   "cell_type": "code",
   "execution_count": 6,
   "metadata": {},
   "outputs": [],
   "source": [
    "# An adventurer is not in the same cell during >= 2 steps ?\n",
    "def isNotSameCell(y,x,newY,newX):\n",
    "    if y==newY and x==newX:\n",
    "        return False\n",
    "    else:\n",
    "        return True"
   ]
  },
  {
   "cell_type": "code",
   "execution_count": 40,
   "metadata": {},
   "outputs": [],
   "source": [
    "def doSimulation(nbAdventurers, tabAdventurers, gameMap):\n",
    "    gmHeight = gameMap.shape[0]\n",
    "    gmWidth = gameMap.shape[1]\n",
    "    print(\"Simulation...\")\n",
    "    nbAdvNoMov = 0\n",
    "    infLoop = True\n",
    "    outputStrAcommeA = \"# {A comme Aventurier} - {Nom de l’aventurier} - {Axe horizontal} - {Axe vertical} - {Orientation} - {Nb. trésors ramassés} \\n\"\n",
    "    newNbTreasures = 0\n",
    "    activeTabAdv = []\n",
    "    for i in range(len(tabAdventurers)):\n",
    "        activeTabAdv.append(tabAdventurers[i][1])\n",
    "    print(\"activeTabAdv :: \", activeTabAdv)\n",
    "    \n",
    "    \n",
    "    while infLoop:\n",
    "        for i in range(len(tabAdventurers)):\n",
    "            print(tabAdventurers[i])\n",
    "            print(\"next move \")\n",
    "            #peopleName = tabAdventurers[i][1]\n",
    "            #coordX = int(tabAdventurers[i][2])\n",
    "            #coordY = int(tabAdventurers[i][3])\n",
    "            #orientation = tabAdventurers[i][4]\n",
    "            movementsList = tabAdventurers[i][5]\n",
    "            if movementsList:\n",
    "                print(tabAdventurers[i][5])\n",
    "                peopleName = tabAdventurers[i][1]\n",
    "                coordX = int(tabAdventurers[i][2])\n",
    "                coordY = int(tabAdventurers[i][3])\n",
    "                orientation = tabAdventurers[i][4]\n",
    "                \n",
    "                nextMovement = movementsList[0]\n",
    "                #if len(movementsList) >= 0 and len(movementsList) <= 10:\n",
    "                    #print(gameMap)\n",
    "                \n",
    "                #print(peopleName)\n",
    "                #print(orientation)\n",
    "                #print(nextMovement)\n",
    "            \n",
    "                if len(movementsList) >= 1:\n",
    "                    newOrientation = getNewOrientation(orientation,nextMovement)\n",
    "                    if newOrientation != orientation:\n",
    "                        tabAdventurers[i][4] = newOrientation\n",
    "                        #newCoordY = coordY\n",
    "                        #newCoordX = coordX\n",
    "                        \n",
    "                        \n",
    "                        # First step'''\n",
    "                        '''noAdventurers=True\n",
    "                        cellIsEmpty = True\n",
    "                        for indice in tabAdventurers:\n",
    "                            name = tabAdventurers[indice][1]\n",
    "                            yName = int(tabAdventurers[indice][3])\n",
    "                            xName = int(tabAdventurers[indice][2])\n",
    "                            if name != peopleName and yName==coordY and xName==coordX:\n",
    "                                noAdventurers = False\n",
    "                        if noAdventurers\n",
    "                        for i in gameMap:\n",
    "                            for j in gameMap:\n",
    "                                if name != peopleName and\n",
    "                        '''\n",
    "                        #adventurerInCell = False\n",
    "                        if gameMap[coordY][coordX] == None:\n",
    "                            for elem in tabAdventurers:\n",
    "                                if tabAdventurers[elem][2]==coordX and tabAdventurers[elem][2]==coordY:\n",
    "                                    #if tabAdventurers[elem][1] == peopleName:\n",
    "                                        #adventurerInCell = True\n",
    "                                        gameMap[coordY][coordX] = tabAdventurers[elem]\n",
    "                        \n",
    "                        if gameMap[coordY][coordX] and gameMap[coordY][coordX][0] == 'A':\n",
    "                            if gameMap[coordY][coordX][1] == peopleName:\n",
    "                                gameMap[coordY][coordX] = tabAdventurers[i]\n",
    "                                \n",
    "                        \n",
    "                        \n",
    "                        \n",
    "                    else:\n",
    "                        newCoordY, newCoordX = getNewCoordinates(orientation,coordY,coordX)\n",
    "                    \n",
    "                        #tabAdventurers[i][5] = tabAdventurers[i][5][1:]\n",
    "                        #gameMap[newCoordY][newCoordX] = tabAdventurers[i]\n",
    "                            \n",
    "                        ## Dans le else ci-dessus ###\n",
    "                        # Cell is inside map\n",
    "                        if isInsideMap(newCoordY,newCoordX):\n",
    "                        \n",
    "                            # Cell is empty\n",
    "                            if gameMap[newCoordY][newCoordX] == None:\n",
    "                                \n",
    "                                if gameMap[coordY][coordX] and gameMap[coordY][coordX][0] != 'T' and gameMap[coordY][coordX][0] != 'M':\n",
    "                                    gameMap[coordY][coordX] = None\n",
    "                                tabAdventurers[i][3] = newCoordY\n",
    "                                tabAdventurers[i][2] = newCoordX\n",
    "                                # remove movement\n",
    "                                #tabAdventurers[i][5] = tabAdventurers[i][5][1:]\n",
    "                                gameMap[newCoordY][newCoordX] = tabAdventurers[i]\n",
    "                            \n",
    "                            # Treasure in cell\n",
    "                            elif gameMap[newCoordY][newCoordX][0] == 'T':\n",
    "                                \n",
    "                                # remove \n",
    "                                if gameMap[coordY][coordX][0] == 'A' and gameMap[coordY][coordX][1] == peopleName:\n",
    "                                    gameMap[coordY][coordX] = None\n",
    "                             \n",
    "                                nbTreasures = int(gameMap[newCoordY][newCoordX][3])\n",
    "                                tabAdventurers[i][3] = newCoordY\n",
    "                                tabAdventurers[i][2] = newCoordX\n",
    "                                '''nbTreasures >= 1 and isNotSameCell(coordY,coordX,newCoordY,newCoordX)'''\n",
    "                                if nbTreasures >= 1:\n",
    "                                    print(\"Adventurer nbTreasure +1 !!!!!!!!!!!!!!!!\")\n",
    "                                    tabAdventurers[i][6] = int(tabAdventurers[i][6]) + 1\n",
    "                                    #gameMap[coordY][coordX][3] = int(gameMap[coordY][coordX][3]) - 1\n",
    "                                    newNbTreasures = nbTreasures - 1\n",
    "                                    if newNbTreasures == 0:\n",
    "                                        print(\"!!! Nb tresures = 0 !!!\")\n",
    "                                        gameMap[newCoordY][newCoordX] = tabAdventurers[i]\n",
    "                                    else:\n",
    "                                        gameMap[newCoordY][newCoordX][3] = newNbTreasures\n",
    "                                \n",
    "                                # remove movement\n",
    "                                #tabAdventurers[i][5] = tabAdventurers[i][5][1:]\n",
    "                            \n",
    "                        #else:\n",
    "                                # Cell is a mountain or outside map\n",
    "                                #continue\n",
    "                                # remove movement\n",
    "                                #tabAdventurers[i][5] = tabAdventurers[i][5][1:]\n",
    "                    \n",
    "                        # remove movement\n",
    "                        #tabAdventurers[i][5] = tabAdventurers[i][5][1:]\n",
    "                        #gameMap[newCoordY][newCoordX] = tabAdventurers[i] \n",
    "                    print(\"1) tabAdventurers[i] : \", tabAdventurers[i])\n",
    "                    tabAdventurers[i][5] = tabAdventurers[i][5][1:]\n",
    "                    print(\"2) tabAdventurers[i] : \", tabAdventurers[i])\n",
    "                print(tabAdventurers[i])\n",
    "                print(gameMap)\n",
    "                print(\"\\n\")\n",
    "            \n",
    "            else:\n",
    "                print(\"3) tabAdventurers[i] : \", tabAdventurers[i])\n",
    "                indice = i\n",
    "                activeTabAdv[indice] = None\n",
    "                print(\"4) tabAdventurers[i] : \", tabAdventurers[i])\n",
    "                print(\"((((((((activeTabAdv))))))))\")\n",
    "                print(activeTabAdv)\n",
    "                print(\"(((((((())))))))\")\n",
    "                print(\"\\n\")\n",
    "                if all(v is None for v in activeTabAdv):\n",
    "                    print(\"all v in activeTabAdv are None !!!\")\n",
    "                    infLoop = False\n",
    "                    break\n",
    "                #nbAdvNoMov = nbAdvNoMov +1\n",
    "                #if nbAdvNoMov == nbAdventurers:\n",
    "                    #infLoop = False\n",
    "                    #break           \n",
    "            \n",
    "        #if nbAdvNoMov == nbAdventurers:\n",
    "            #infLoop = False\n",
    "        \n",
    "    # Write output file\n",
    "    with open(cheminSortie, \"a+\") as file_output:\n",
    "        #commentTreasure = \"# {T comme Trésor} - {Axe horizontal} - {Axe vertical} - {Nb. de trésors restants}\"\n",
    "        #file_output.write(\"\\n\")\n",
    "        #file_output.write(commentTreasure)\n",
    "        file_output.write(\"\\n\")\n",
    "        for i in range(gmHeight):\n",
    "            for j in range(gmWidth):\n",
    "                #print(\"i,j : \", i,j)\n",
    "                if gameMap[i][j]:\n",
    "                    #print(\"gameMap[i][j] != None !!!\")\n",
    "                    if gameMap[i][j][0] == 'T':\n",
    "                        strTreasure = str(gameMap[i][j]).strip('[]')\n",
    "                        strTreasure = strTreasure.replace(',',' -')\n",
    "                        strTreasure = strTreasure.replace('\\'','')\n",
    "                        file_output.write(strTreasure)\n",
    "                        file_output.write(\"\\n\")\n",
    "\n",
    "        \n",
    "        if len(tabAdventurers) >= 1:\n",
    "            #commentA = \"# {A comme Aventurier} - {Nom de l’aventurier} - {Axe horizontal} - {Axe vertical} - {Orientation} - {Nb. trésors ramassés}\"\n",
    "            #file_output.write(\"\\n\")\n",
    "            file_output.write(outputStrAcommeA)\n",
    "            print(\"## Output adventurers ##\")\n",
    "            for i in range(len(tabAdventurers)):\n",
    "                print(tabAdventurers[i])\n",
    "                strAdventurer = str(tabAdventurers[i]).strip('[]')\n",
    "                strAdventurer = strAdventurer.replace(',',' -')\n",
    "                strAdventurer = strAdventurer.replace('\\'','')\n",
    "                strAdventurer = strAdventurer.replace('-  -','-')\n",
    "                file_output.write(strAdventurer)\n",
    "                file_output.write(\"\\n\")\n",
    "            \n",
    "        file_output.close()\n",
    "    #print(\"RETURNNnnnnnnnnn !!!!!!!!!!!!!!! §§§§§§§\")\n",
    "    return"
   ]
  },
  {
   "cell_type": "code",
   "execution_count": 41,
   "metadata": {},
   "outputs": [],
   "source": [
    "nbAdventurers = 0\n",
    "tabAdventurers = []      # informations on adventurers\n",
    "gameMap = None           # informations on map (size, location of montains, ...)"
   ]
  },
  {
   "cell_type": "code",
   "execution_count": 42,
   "metadata": {},
   "outputs": [],
   "source": [
    "cheminEntree = './ressources/input04.map'\n",
    "cheminSortie = './ressources/output04.map'"
   ]
  },
  {
   "cell_type": "code",
   "execution_count": 43,
   "metadata": {
    "scrolled": true
   },
   "outputs": [
    {
     "name": "stdout",
     "output_type": "stream",
     "text": [
      "['A', 'Lara', 1, 1, 'S', 'AADADAGGA', 0]\n",
      "output character\n",
      "['A', 'Paul', 0, 0, 'E', 'AADAGA', 0]\n",
      "output character\n",
      "break while true\n",
      "all files closed\n",
      "gameMap\n",
      ".....................\n",
      "[[list(['A', 'Paul', 0, 0, 'E', 'AADAGA', 0]) 'M' None]\n",
      " [None list(['A', 'Lara', 1, 1, 'S', 'AADADAGGA', 0]) 'M']\n",
      " [None None None]\n",
      " [list(['T', 0, 3, 2]) list(['T', 1, 3, 3]) None]]\n"
     ]
    }
   ],
   "source": [
    "readFile(cheminEntree, cheminSortie)"
   ]
  },
  {
   "cell_type": "code",
   "execution_count": 44,
   "metadata": {},
   "outputs": [
    {
     "name": "stdout",
     "output_type": "stream",
     "text": [
      "[['A', 'Lara', 1, 1, 'S', 'AADADAGGA', 0], ['A', 'Paul', 0, 0, 'E', 'AADAGA', 0]]\n",
      "nb Adventurers : 2\n",
      "[[list(['A', 'Paul', 0, 0, 'E', 'AADAGA', 0]) 'M' None]\n",
      " [None list(['A', 'Lara', 1, 1, 'S', 'AADADAGGA', 0]) 'M']\n",
      " [None None None]\n",
      " [list(['T', 0, 3, 2]) list(['T', 1, 3, 3]) None]]\n"
     ]
    }
   ],
   "source": [
    "print(tabAdventurers)\n",
    "print(\"nb Adventurers :\", nbAdventurers)\n",
    "print(gameMap)"
   ]
  },
  {
   "cell_type": "markdown",
   "metadata": {},
   "source": [
    "## Exécution de la simulation"
   ]
  },
  {
   "cell_type": "code",
   "execution_count": 45,
   "metadata": {
    "scrolled": true
   },
   "outputs": [
    {
     "name": "stdout",
     "output_type": "stream",
     "text": [
      "Simulation...\n",
      "activeTabAdv ::  ['Lara', 'Paul']\n",
      "['A', 'Lara', 1, 1, 'S', 'AADADAGGA', 0]\n",
      "next move \n",
      "AADADAGGA\n",
      "1) tabAdventurers[i] :  ['A', 'Lara', 1, 2, 'S', 'AADADAGGA', 0]\n",
      "2) tabAdventurers[i] :  ['A', 'Lara', 1, 2, 'S', 'ADADAGGA', 0]\n",
      "['A', 'Lara', 1, 2, 'S', 'ADADAGGA', 0]\n",
      "[[list(['A', 'Paul', 0, 0, 'E', 'AADAGA', 0]) 'M' None]\n",
      " [None None 'M']\n",
      " [None list(['A', 'Lara', 1, 2, 'S', 'ADADAGGA', 0]) None]\n",
      " [list(['T', 0, 3, 2]) list(['T', 1, 3, 3]) None]]\n",
      "\n",
      "\n",
      "['A', 'Paul', 0, 0, 'E', 'AADAGA', 0]\n",
      "next move \n",
      "AADAGA\n",
      "1) tabAdventurers[i] :  ['A', 'Paul', 0, 0, 'E', 'AADAGA', 0]\n",
      "2) tabAdventurers[i] :  ['A', 'Paul', 0, 0, 'E', 'ADAGA', 0]\n",
      "['A', 'Paul', 0, 0, 'E', 'ADAGA', 0]\n",
      "[[list(['A', 'Paul', 0, 0, 'E', 'ADAGA', 0]) 'M' None]\n",
      " [None None 'M']\n",
      " [None list(['A', 'Lara', 1, 2, 'S', 'ADADAGGA', 0]) None]\n",
      " [list(['T', 0, 3, 2]) list(['T', 1, 3, 3]) None]]\n",
      "\n",
      "\n",
      "['A', 'Lara', 1, 2, 'S', 'ADADAGGA', 0]\n",
      "next move \n",
      "ADADAGGA\n",
      "Adventurer nbTreasure +1 !!!!!!!!!!!!!!!!\n",
      "1) tabAdventurers[i] :  ['A', 'Lara', 1, 3, 'S', 'ADADAGGA', 1]\n",
      "2) tabAdventurers[i] :  ['A', 'Lara', 1, 3, 'S', 'DADAGGA', 1]\n",
      "['A', 'Lara', 1, 3, 'S', 'DADAGGA', 1]\n",
      "[[list(['A', 'Paul', 0, 0, 'E', 'ADAGA', 0]) 'M' None]\n",
      " [None None 'M']\n",
      " [None None None]\n",
      " [list(['T', 0, 3, 2]) list(['T', 1, 3, 2]) None]]\n",
      "\n",
      "\n",
      "['A', 'Paul', 0, 0, 'E', 'ADAGA', 0]\n",
      "next move \n",
      "ADAGA\n",
      "1) tabAdventurers[i] :  ['A', 'Paul', 0, 0, 'E', 'ADAGA', 0]\n",
      "2) tabAdventurers[i] :  ['A', 'Paul', 0, 0, 'E', 'DAGA', 0]\n",
      "['A', 'Paul', 0, 0, 'E', 'DAGA', 0]\n",
      "[[list(['A', 'Paul', 0, 0, 'E', 'DAGA', 0]) 'M' None]\n",
      " [None None 'M']\n",
      " [None None None]\n",
      " [list(['T', 0, 3, 2]) list(['T', 1, 3, 2]) None]]\n",
      "\n",
      "\n",
      "['A', 'Lara', 1, 3, 'S', 'DADAGGA', 1]\n",
      "next move \n",
      "DADAGGA\n",
      "1) tabAdventurers[i] :  ['A', 'Lara', 1, 3, 'O', 'DADAGGA', 1]\n",
      "2) tabAdventurers[i] :  ['A', 'Lara', 1, 3, 'O', 'ADAGGA', 1]\n",
      "['A', 'Lara', 1, 3, 'O', 'ADAGGA', 1]\n",
      "[[list(['A', 'Paul', 0, 0, 'E', 'DAGA', 0]) 'M' None]\n",
      " [None None 'M']\n",
      " [None None None]\n",
      " [list(['T', 0, 3, 2]) list(['T', 1, 3, 2]) None]]\n",
      "\n",
      "\n",
      "['A', 'Paul', 0, 0, 'E', 'DAGA', 0]\n",
      "next move \n",
      "DAGA\n",
      "1) tabAdventurers[i] :  ['A', 'Paul', 0, 0, 'S', 'DAGA', 0]\n",
      "2) tabAdventurers[i] :  ['A', 'Paul', 0, 0, 'S', 'AGA', 0]\n",
      "['A', 'Paul', 0, 0, 'S', 'AGA', 0]\n",
      "[[list(['A', 'Paul', 0, 0, 'S', 'AGA', 0]) 'M' None]\n",
      " [None None 'M']\n",
      " [None None None]\n",
      " [list(['T', 0, 3, 2]) list(['T', 1, 3, 2]) None]]\n",
      "\n",
      "\n",
      "['A', 'Lara', 1, 3, 'O', 'ADAGGA', 1]\n",
      "next move \n",
      "ADAGGA\n",
      "Adventurer nbTreasure +1 !!!!!!!!!!!!!!!!\n",
      "1) tabAdventurers[i] :  ['A', 'Lara', 0, 3, 'O', 'ADAGGA', 2]\n",
      "2) tabAdventurers[i] :  ['A', 'Lara', 0, 3, 'O', 'DAGGA', 2]\n",
      "['A', 'Lara', 0, 3, 'O', 'DAGGA', 2]\n",
      "[[list(['A', 'Paul', 0, 0, 'S', 'AGA', 0]) 'M' None]\n",
      " [None None 'M']\n",
      " [None None None]\n",
      " [list(['T', 0, 3, 1]) list(['T', 1, 3, 2]) None]]\n",
      "\n",
      "\n",
      "['A', 'Paul', 0, 0, 'S', 'AGA', 0]\n",
      "next move \n",
      "AGA\n",
      "1) tabAdventurers[i] :  ['A', 'Paul', 0, 1, 'S', 'AGA', 0]\n",
      "2) tabAdventurers[i] :  ['A', 'Paul', 0, 1, 'S', 'GA', 0]\n",
      "['A', 'Paul', 0, 1, 'S', 'GA', 0]\n",
      "[[None 'M' None]\n",
      " [list(['A', 'Paul', 0, 1, 'S', 'GA', 0]) None 'M']\n",
      " [None None None]\n",
      " [list(['T', 0, 3, 1]) list(['T', 1, 3, 2]) None]]\n",
      "\n",
      "\n",
      "['A', 'Lara', 0, 3, 'O', 'DAGGA', 2]\n",
      "next move \n",
      "DAGGA\n",
      "1) tabAdventurers[i] :  ['A', 'Lara', 0, 3, 'N', 'DAGGA', 2]\n",
      "2) tabAdventurers[i] :  ['A', 'Lara', 0, 3, 'N', 'AGGA', 2]\n",
      "['A', 'Lara', 0, 3, 'N', 'AGGA', 2]\n",
      "[[None 'M' None]\n",
      " [list(['A', 'Paul', 0, 1, 'S', 'GA', 0]) None 'M']\n",
      " [None None None]\n",
      " [list(['T', 0, 3, 1]) list(['T', 1, 3, 2]) None]]\n",
      "\n",
      "\n",
      "['A', 'Paul', 0, 1, 'S', 'GA', 0]\n",
      "next move \n",
      "GA\n",
      "1) tabAdventurers[i] :  ['A', 'Paul', 0, 1, 'E', 'GA', 0]\n",
      "2) tabAdventurers[i] :  ['A', 'Paul', 0, 1, 'E', 'A', 0]\n",
      "['A', 'Paul', 0, 1, 'E', 'A', 0]\n",
      "[[None 'M' None]\n",
      " [list(['A', 'Paul', 0, 1, 'E', 'A', 0]) None 'M']\n",
      " [None None None]\n",
      " [list(['T', 0, 3, 1]) list(['T', 1, 3, 2]) None]]\n",
      "\n",
      "\n",
      "['A', 'Lara', 0, 3, 'N', 'AGGA', 2]\n",
      "next move \n",
      "AGGA\n",
      "1) tabAdventurers[i] :  ['A', 'Lara', 0, 2, 'N', 'AGGA', 2]\n",
      "2) tabAdventurers[i] :  ['A', 'Lara', 0, 2, 'N', 'GGA', 2]\n",
      "['A', 'Lara', 0, 2, 'N', 'GGA', 2]\n",
      "[[None 'M' None]\n",
      " [list(['A', 'Paul', 0, 1, 'E', 'A', 0]) None 'M']\n",
      " [list(['A', 'Lara', 0, 2, 'N', 'GGA', 2]) None None]\n",
      " [list(['T', 0, 3, 1]) list(['T', 1, 3, 2]) None]]\n",
      "\n",
      "\n",
      "['A', 'Paul', 0, 1, 'E', 'A', 0]\n",
      "next move \n",
      "A\n",
      "1) tabAdventurers[i] :  ['A', 'Paul', 1, 1, 'E', 'A', 0]\n",
      "2) tabAdventurers[i] :  ['A', 'Paul', 1, 1, 'E', '', 0]\n",
      "['A', 'Paul', 1, 1, 'E', '', 0]\n",
      "[[None 'M' None]\n",
      " [None list(['A', 'Paul', 1, 1, 'E', '', 0]) 'M']\n",
      " [list(['A', 'Lara', 0, 2, 'N', 'GGA', 2]) None None]\n",
      " [list(['T', 0, 3, 1]) list(['T', 1, 3, 2]) None]]\n",
      "\n",
      "\n",
      "['A', 'Lara', 0, 2, 'N', 'GGA', 2]\n",
      "next move \n",
      "GGA\n",
      "1) tabAdventurers[i] :  ['A', 'Lara', 0, 2, 'O', 'GGA', 2]\n",
      "2) tabAdventurers[i] :  ['A', 'Lara', 0, 2, 'O', 'GA', 2]\n",
      "['A', 'Lara', 0, 2, 'O', 'GA', 2]\n",
      "[[None 'M' None]\n",
      " [None list(['A', 'Paul', 1, 1, 'E', '', 0]) 'M']\n",
      " [list(['A', 'Lara', 0, 2, 'O', 'GA', 2]) None None]\n",
      " [list(['T', 0, 3, 1]) list(['T', 1, 3, 2]) None]]\n",
      "\n",
      "\n",
      "['A', 'Paul', 1, 1, 'E', '', 0]\n",
      "next move \n",
      "3) tabAdventurers[i] :  ['A', 'Paul', 1, 1, 'E', '', 0]\n",
      "4) tabAdventurers[i] :  ['A', 'Paul', 1, 1, 'E', '', 0]\n",
      "((((((((activeTabAdv))))))))\n",
      "['Lara', None]\n",
      "(((((((())))))))\n",
      "\n",
      "\n",
      "['A', 'Lara', 0, 2, 'O', 'GA', 2]\n",
      "next move \n",
      "GA\n",
      "1) tabAdventurers[i] :  ['A', 'Lara', 0, 2, 'S', 'GA', 2]\n",
      "2) tabAdventurers[i] :  ['A', 'Lara', 0, 2, 'S', 'A', 2]\n",
      "['A', 'Lara', 0, 2, 'S', 'A', 2]\n",
      "[[None 'M' None]\n",
      " [None list(['A', 'Paul', 1, 1, 'E', '', 0]) 'M']\n",
      " [list(['A', 'Lara', 0, 2, 'S', 'A', 2]) None None]\n",
      " [list(['T', 0, 3, 1]) list(['T', 1, 3, 2]) None]]\n",
      "\n",
      "\n",
      "['A', 'Paul', 1, 1, 'E', '', 0]\n",
      "next move \n",
      "3) tabAdventurers[i] :  ['A', 'Paul', 1, 1, 'E', '', 0]\n",
      "4) tabAdventurers[i] :  ['A', 'Paul', 1, 1, 'E', '', 0]\n",
      "((((((((activeTabAdv))))))))\n",
      "['Lara', None]\n",
      "(((((((())))))))\n",
      "\n",
      "\n",
      "['A', 'Lara', 0, 2, 'S', 'A', 2]\n",
      "next move \n",
      "A\n",
      "Adventurer nbTreasure +1 !!!!!!!!!!!!!!!!\n",
      "!!! Nb tresures = 0 !!!\n",
      "1) tabAdventurers[i] :  ['A', 'Lara', 0, 3, 'S', 'A', 3]\n",
      "2) tabAdventurers[i] :  ['A', 'Lara', 0, 3, 'S', '', 3]\n",
      "['A', 'Lara', 0, 3, 'S', '', 3]\n",
      "[[None 'M' None]\n",
      " [None list(['A', 'Paul', 1, 1, 'E', '', 0]) 'M']\n",
      " [None None None]\n",
      " [list(['A', 'Lara', 0, 3, 'S', '', 3]) list(['T', 1, 3, 2]) None]]\n",
      "\n",
      "\n",
      "['A', 'Paul', 1, 1, 'E', '', 0]\n",
      "next move \n",
      "3) tabAdventurers[i] :  ['A', 'Paul', 1, 1, 'E', '', 0]\n",
      "4) tabAdventurers[i] :  ['A', 'Paul', 1, 1, 'E', '', 0]\n",
      "((((((((activeTabAdv))))))))\n",
      "['Lara', None]\n",
      "(((((((())))))))\n",
      "\n",
      "\n",
      "['A', 'Lara', 0, 3, 'S', '', 3]\n",
      "next move \n",
      "3) tabAdventurers[i] :  ['A', 'Lara', 0, 3, 'S', '', 3]\n",
      "4) tabAdventurers[i] :  ['A', 'Lara', 0, 3, 'S', '', 3]\n",
      "((((((((activeTabAdv))))))))\n",
      "[None, None]\n",
      "(((((((())))))))\n",
      "\n",
      "\n",
      "all v in activeTabAdv are None !!!\n",
      "## Output adventurers ##\n",
      "['A', 'Lara', 0, 3, 'S', '', 3]\n",
      "['A', 'Paul', 1, 1, 'E', '', 0]\n"
     ]
    }
   ],
   "source": [
    "doSimulation(nbAdventurers, tabAdventurers, gameMap)"
   ]
  },
  {
   "cell_type": "code",
   "execution_count": 46,
   "metadata": {},
   "outputs": [
    {
     "data": {
      "text/plain": [
       "[['A', 'Lara', 0, 3, 'S', '', 3], ['A', 'Paul', 1, 1, 'E', '', 0]]"
      ]
     },
     "execution_count": 46,
     "metadata": {},
     "output_type": "execute_result"
    }
   ],
   "source": [
    "tabAdventurers"
   ]
  },
  {
   "cell_type": "code",
   "execution_count": 47,
   "metadata": {},
   "outputs": [
    {
     "data": {
      "text/plain": [
       "array([[None, 'M', None],\n",
       "       [None, list(['A', 'Paul', 1, 1, 'E', '', 0]), 'M'],\n",
       "       [None, None, None],\n",
       "       [list(['A', 'Lara', 0, 3, 'S', '', 3]), list(['T', 1, 3, 2]),\n",
       "        None]], dtype=object)"
      ]
     },
     "execution_count": 47,
     "metadata": {},
     "output_type": "execute_result"
    }
   ],
   "source": [
    "gameMap"
   ]
  },
  {
   "cell_type": "code",
   "execution_count": 99,
   "metadata": {},
   "outputs": [
    {
     "data": {
      "text/plain": [
       "(4, 3)"
      ]
     },
     "execution_count": 99,
     "metadata": {},
     "output_type": "execute_result"
    }
   ],
   "source": [
    "gameMap.shape"
   ]
  },
  {
   "cell_type": "markdown",
   "metadata": {},
   "source": [
    "## Tests"
   ]
  },
  {
   "cell_type": "markdown",
   "metadata": {},
   "source": [
    "### Le format des fichiers en entrée"
   ]
  },
  {
   "cell_type": "code",
   "execution_count": 111,
   "metadata": {},
   "outputs": [],
   "source": [
    "def isCorrectInputFormat(fileInputPath):\n",
    "    inputFile = open(fileInputPath, 'r')\n",
    "    while True:\n",
    "        line = inputFile.readline()\n",
    "        if line:\n",
    "            if re.search(\"^(C|c){1}\\s+-{1}\\s+\\d+\\s+-{1}\\s+\\d+\", line):\n",
    "                return True\n",
    "        else:\n",
    "            return False    "
   ]
  },
  {
   "cell_type": "code",
   "execution_count": 205,
   "metadata": {},
   "outputs": [
    {
     "data": {
      "text/plain": [
       "False"
      ]
     },
     "execution_count": 205,
     "metadata": {},
     "output_type": "execute_result"
    }
   ],
   "source": [
    "isCorrectInputFormat('ressources/inputIncorrectFormat.map')"
   ]
  },
  {
   "cell_type": "code",
   "execution_count": 206,
   "metadata": {},
   "outputs": [
    {
     "data": {
      "text/plain": [
       "True"
      ]
     },
     "execution_count": 206,
     "metadata": {},
     "output_type": "execute_result"
    }
   ],
   "source": [
    "isCorrectInputFormat(cheminEntree)"
   ]
  },
  {
   "cell_type": "markdown",
   "metadata": {},
   "source": [
    "### Le format des fichiers en sortie"
   ]
  },
  {
   "cell_type": "code",
   "execution_count": 204,
   "metadata": {},
   "outputs": [],
   "source": [
    "def isCorrectOutputFormat(fileOutputPath):\n",
    "    formatC = None\n",
    "    formatM = None\n",
    "    formatT = None\n",
    "    formatA = None\n",
    "    outputFile = open(fileOutputPath, 'r')\n",
    "    while True:\n",
    "        line = outputFile.readline()\n",
    "        if line:\n",
    "            if re.match(\"^(C|c){1}\", line): \n",
    "                if re.match(\"^(C|c){1}\\s+-{1}\\s+\\d+\\s+-{1}\\s+\\d+\", line):\n",
    "                    formatC = True\n",
    "                else:\n",
    "                    return False\n",
    "            elif re.match(\"^(M|m){1}\", line):\n",
    "                if re.match(\"^(M|m){1}\\s+-{1}\\s+\\d+\\s+-{1}\\s+\\d+\", line):\n",
    "                    formatM = True\n",
    "                else:\n",
    "                    return False\n",
    "            elif re.match(\"^(T|t){1}\", line):\n",
    "                if re.match(\"^(T|t){1}\\s+-{1}\\s+\\d+\\s+-{1}\\s+\\d+\\s+-{1}\\s+\\d+\", line):\n",
    "                    formatT = True\n",
    "                else:\n",
    "                    return False\n",
    "            elif re.match(\"^(A|a){1}\", line):\n",
    "                if re.match(\"^(A|a){1}\\s+-{1}\\s+[A-Za-z]+\\s+-{1}\\s+\\d+\\s+-{1}\\s+\\d+\\s+-{1}\\s+(N|S|E|O)\\s+-{1}\\s+[\\d]+\", line):\n",
    "                    formatT = True\n",
    "                else:\n",
    "                    return False\n",
    "            elif re.match(\"^(#)+\", line) or re.search(\"^(\\n)+\", line):\n",
    "                continue\n",
    "            else:\n",
    "                print(\"incorrect char !!!\")\n",
    "                print(line)\n",
    "                return False\n",
    "        else:\n",
    "            break\n",
    "    if formatC==True and formatM!=False and formatT!=False and formatA!=False:\n",
    "        return True\n",
    "    else:\n",
    "        return False"
   ]
  },
  {
   "cell_type": "code",
   "execution_count": 203,
   "metadata": {},
   "outputs": [
    {
     "name": "stdout",
     "output_type": "stream",
     "text": [
      "incorrect char !!!\n",
      "!\n"
     ]
    },
    {
     "data": {
      "text/plain": [
       "False"
      ]
     },
     "execution_count": 203,
     "metadata": {},
     "output_type": "execute_result"
    }
   ],
   "source": [
    "isCorrectOutputFormat('ressources/output02.map')"
   ]
  },
  {
   "cell_type": "code",
   "execution_count": 197,
   "metadata": {},
   "outputs": [
    {
     "data": {
      "text/plain": [
       "True"
      ]
     },
     "execution_count": 197,
     "metadata": {},
     "output_type": "execute_result"
    }
   ],
   "source": [
    "isCorrectOutputFormat(cheminSortie)"
   ]
  },
  {
   "cell_type": "code",
   "execution_count": 13,
   "metadata": {},
   "outputs": [
    {
     "data": {
      "text/plain": [
       "[]"
      ]
     },
     "execution_count": 13,
     "metadata": {},
     "output_type": "execute_result"
    }
   ],
   "source": [
    "tabActive = []\n",
    "tabActive"
   ]
  },
  {
   "cell_type": "code",
   "execution_count": 38,
   "metadata": {},
   "outputs": [
    {
     "data": {
      "text/plain": [
       "['Lara', 'Paul']"
      ]
     },
     "execution_count": 38,
     "metadata": {},
     "output_type": "execute_result"
    }
   ],
   "source": [
    "tabActive = ['Lara', 'Paul']\n",
    "tabActive"
   ]
  },
  {
   "cell_type": "code",
   "execution_count": 34,
   "metadata": {},
   "outputs": [
    {
     "data": {
      "text/plain": [
       "[None, None]"
      ]
     },
     "execution_count": 34,
     "metadata": {},
     "output_type": "execute_result"
    }
   ],
   "source": [
    "tabActive = [None, None]\n",
    "tabActive"
   ]
  },
  {
   "cell_type": "code",
   "execution_count": 35,
   "metadata": {},
   "outputs": [
    {
     "name": "stdout",
     "output_type": "stream",
     "text": [
      "tabActive exist\n"
     ]
    }
   ],
   "source": [
    "if tabActive:\n",
    "    print(\"tabActive exist\")"
   ]
  },
  {
   "cell_type": "code",
   "execution_count": 36,
   "metadata": {},
   "outputs": [],
   "source": [
    "if tabActive is None:\n",
    "    print(\"tabActive is None\")"
   ]
  },
  {
   "cell_type": "code",
   "execution_count": 39,
   "metadata": {},
   "outputs": [
    {
     "data": {
      "text/plain": [
       "False"
      ]
     },
     "execution_count": 39,
     "metadata": {},
     "output_type": "execute_result"
    }
   ],
   "source": [
    "# All values are None ?\n",
    "all(v is None for v in tabActive)"
   ]
  },
  {
   "cell_type": "code",
   "execution_count": null,
   "metadata": {},
   "outputs": [],
   "source": []
  }
 ],
 "metadata": {
  "kernelspec": {
   "display_name": "Python 3",
   "language": "python",
   "name": "python3"
  },
  "language_info": {
   "codemirror_mode": {
    "name": "ipython",
    "version": 3
   },
   "file_extension": ".py",
   "mimetype": "text/x-python",
   "name": "python",
   "nbconvert_exporter": "python",
   "pygments_lexer": "ipython3",
   "version": "3.7.3"
  }
 },
 "nbformat": 4,
 "nbformat_minor": 2
}
