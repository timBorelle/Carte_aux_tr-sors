{
 "cells": [
  {
   "cell_type": "markdown",
   "metadata": {},
   "source": [
    "# Contexte\n",
    "Le gouvernement péruvien vient d’autoriser les aventuriers en quête de trésors à explorer les 85 182\n",
    "km² du département de la Madre de Dios. Vous devez réaliser un système permettant de suivre les\n",
    "déplacements et les collectes de trésors effectuées par les aventuriers. Le gouvernement péruvien\n",
    "étant très à cheval sur les bonnes pratiques de code, il est important de réaliser un code de qualité,\n",
    "lisible, et maintenable (oui, ça veut dire avec des tests) !"
   ]
  },
  {
   "cell_type": "code",
   "execution_count": 53,
   "metadata": {},
   "outputs": [],
   "source": [
    "import re\n",
    "from numpy import zeros,array"
   ]
  },
  {
   "cell_type": "code",
   "execution_count": 87,
   "metadata": {},
   "outputs": [],
   "source": [
    "#global nbAdventurers\n",
    "nbAdventurers = 0\n",
    "tabAdventurers = [['51', 'F', '46', 'M', '0', '15100', '531', '555'], \n",
    "['52', 'M', '29', 'M', '2', '14200', '673', '633']]\n",
    "tabAdventurers[1] = ['1',2,'3']"
   ]
  },
  {
   "cell_type": "markdown",
   "metadata": {},
   "source": [
    "## Lire le fichier d'entrée"
   ]
  },
  {
   "cell_type": "code",
   "execution_count": 88,
   "metadata": {},
   "outputs": [],
   "source": [
    "def readFile(inputPath, outputPath):\n",
    "    inputFile = open(inputPath, 'r')\n",
    "    outputFile = open(outputPath, 'w')\n",
    "    outputStrAcommeA = \"# {A comme Aventurier} - {Nom de l’aventurier} - {Axe horizontal} - {Axe vertical} - {Orientation} - {Nb. trésors ramassés} \\n\"\n",
    "    global nbAdventurers\n",
    "    global tabAdventurers\n",
    "    \n",
    "    while True:\n",
    "        # Get next line from file\n",
    "        line = inputFile.readline()\n",
    "        if not line:\n",
    "            print(\"break while true\")\n",
    "            break\n",
    "        \n",
    "        #print(line)\n",
    "        if re.search(\"^(A|a).*-\", line) == None:\n",
    "            if re.search(\"^(#).*{(A|a).*comme\", line):\n",
    "                print(\"MATCH # A comme ...\")\n",
    "                outputFile.write(outputStrAcommeA)\n",
    "            else:\n",
    "                #print(\"write line.\")\n",
    "                outputFile.write(line)\n",
    "            \n",
    "            \n",
    "        else:\n",
    "            nbAdventurers += 1\n",
    "            listElems = []\n",
    "            nameAdv = re.findall(\"[a-zA-Z]{2,}\", line)[0]\n",
    "            listElems.append(nameAdv)\n",
    "            columnAdv = re.findall(\"\\d+\", line)[0]\n",
    "            listElems.append(columnAdv)\n",
    "            lineAdv = re.findall(\"\\d+\", line)[1]\n",
    "            listElems.append(lineAdv)\n",
    "            orientationAdv = re.findall(\"\\s+(N|n|S|s|E|e|O|o){1}\\s+\", line)[0]\n",
    "            listElems.append(orientationAdv)\n",
    "            motionSequence = re.findall(\"[a-zA-Z]{2,}\", line)[1]\n",
    "            listElems.append(motionSequence)\n",
    "            #.append(columnAdv).append(lineAdv).append(orientationAdv).append(motionSequence)\n",
    "            print(listElems)\n",
    "            #tabAdventurers[nbAdventurers-1] = listElems  #.append(columnAdv).append(lineAdv).append(orientationAdv).append(motionSequence)\n",
    "            \n",
    "            \n",
    "            print(\"output character\")\n",
    "            txtAname = str(re.findall(\"^A|a.*-.*-\", line)) + \"{{coordonnées}} {{nb trésors trouvés}}\"\n",
    "            outputFile.write(txtAname)\n",
    "            \n",
    "            print(\"# nb adventurers : \" + str(nbAdventurers))\n",
    "            print(\"name : \" + str(nameAdv))\n",
    "            print(\"column number : \" + str(columnAdv))\n",
    "            print(\"line number : \" + str(lineAdv))\n",
    "            print(\"orientation : \"+str(orientationAdv))\n",
    "            print(\"motion sequence :\"+str(motionSequence))\n",
    "                  \n",
    "    inputFile.close()\n",
    "    outputFile.close()\n",
    "    print(\"all files closed\")"
   ]
  },
  {
   "cell_type": "code",
   "execution_count": null,
   "metadata": {},
   "outputs": [],
   "source": []
  },
  {
   "cell_type": "code",
   "execution_count": 89,
   "metadata": {},
   "outputs": [
    {
     "name": "stdout",
     "output_type": "stream",
     "text": [
      "MATCH # A comme ...\n",
      "['Indiana', '1', '1', 'S', 'AADADA']\n",
      "output character\n",
      "# nb adventurers : 1\n",
      "name : Indiana\n",
      "column number : 1\n",
      "line number : 1\n",
      "orientation : S\n",
      "motion sequence :AADADA\n",
      "['Tim', '2', '3', 'N', 'AAGAGA']\n",
      "output character\n",
      "# nb adventurers : 2\n",
      "name : Tim\n",
      "column number : 2\n",
      "line number : 3\n",
      "orientation : N\n",
      "motion sequence :AAGAGA\n",
      "break while true\n",
      "all files closed\n"
     ]
    }
   ],
   "source": [
    "cheminEntree = './ressources/input01.carte'\n",
    "cheminSortie = './ressources/output01.carte'\n",
    "readFile(cheminEntree, cheminSortie)"
   ]
  },
  {
   "cell_type": "code",
   "execution_count": 46,
   "metadata": {},
   "outputs": [
    {
     "name": "stdout",
     "output_type": "stream",
     "text": [
      "1\n"
     ]
    }
   ],
   "source": [
    "print(nbAdventurers)"
   ]
  },
  {
   "cell_type": "code",
   "execution_count": null,
   "metadata": {},
   "outputs": [],
   "source": [
    "#def doSimulation(nbAdventurers):\n",
    "    #"
   ]
  }
 ],
 "metadata": {
  "kernelspec": {
   "display_name": "Python 3",
   "language": "python",
   "name": "python3"
  },
  "language_info": {
   "codemirror_mode": {
    "name": "ipython",
    "version": 3
   },
   "file_extension": ".py",
   "mimetype": "text/x-python",
   "name": "python",
   "nbconvert_exporter": "python",
   "pygments_lexer": "ipython3",
   "version": "3.7.3"
  }
 },
 "nbformat": 4,
 "nbformat_minor": 2
}
