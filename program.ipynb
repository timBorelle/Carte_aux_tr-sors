{
 "cells": [
  {
   "cell_type": "markdown",
   "metadata": {},
   "source": [
    "# Contexte\n",
    "Le gouvernement péruvien vient d’autoriser les aventuriers en quête de trésors à explorer les 85 182\n",
    "km² du département de la Madre de Dios. Vous devez réaliser un système permettant de suivre les\n",
    "déplacements et les collectes de trésors effectuées par les aventuriers. Le gouvernement péruvien\n",
    "étant très à cheval sur les bonnes pratiques de code, il est important de réaliser un code de qualité,\n",
    "lisible, et maintenable (oui, ça veut dire avec des tests) !"
   ]
  },
  {
   "cell_type": "code",
   "execution_count": 1,
   "metadata": {},
   "outputs": [],
   "source": [
    "import re\n",
    "import numpy as np\n",
    "#from numpy import zeros,array"
   ]
  },
  {
   "cell_type": "code",
   "execution_count": 2,
   "metadata": {},
   "outputs": [
    {
     "name": "stdout",
     "output_type": "stream",
     "text": [
      "[]\n"
     ]
    }
   ],
   "source": [
    "nbAdventurers = 0\n",
    "#tabAdventurers\n",
    "tabAdventurers = []    # np.empty((2,5), list)\n",
    "print(tabAdventurers)\n",
    "gameMap = None"
   ]
  },
  {
   "cell_type": "markdown",
   "metadata": {},
   "source": [
    "## Lire le fichier d'entrée"
   ]
  },
  {
   "cell_type": "code",
   "execution_count": 3,
   "metadata": {},
   "outputs": [],
   "source": [
    "def readFile(inputPath, outputPath):\n",
    "    inputFile = open(inputPath, 'r')\n",
    "    outputFile = open(outputPath, 'w')\n",
    "    outputStrAcommeA = \"# {A comme Aventurier} - {Nom de l’aventurier} - {Axe horizontal} - {Axe vertical} - {Orientation} - {Nb. trésors ramassés} \\n\"\n",
    "    global nbAdventurers\n",
    "    global tabAdventurers\n",
    "    nbCellsWidth = 0\n",
    "    nbCellsHeight = 0\n",
    "    global gameMap\n",
    "    xMontain = None\n",
    "    yMontain = None\n",
    "    xTreasure = None\n",
    "    yTreasure = None\n",
    "    nbTreasures = None\n",
    "    \n",
    "    \n",
    "    while True:\n",
    "        # Get next line from file\n",
    "        line = inputFile.readline()\n",
    "        if not line:\n",
    "            print(\"break while true\")\n",
    "            break\n",
    "        \n",
    "        #print(line)\n",
    "        if re.search(\"^(A|a).*-\", line) == None:\n",
    "            if re.search(\"^(#).*{(A|a).*comme\", line):\n",
    "                outputFile.write(outputStrAcommeA)\n",
    "            else:\n",
    "                # Carte\n",
    "                if re.search(\"^(C|c).*-.*\\d\", line):\n",
    "                    nbCellsWidth = int(re.findall(\"\\d+\", line)[0])\n",
    "                    nbCellsHeight = int(re.findall(\"\\d+\", line)[1])\n",
    "                    gameMap = np.empty((nbCellsHeight,nbCellsWidth), list)\n",
    "                # Montagne    \n",
    "                if re.search(\"^(M|m).*-.*\\d\", line):\n",
    "                    xMontain = int(re.findall(\"\\d+\", line)[0])\n",
    "                    yMontain = int(re.findall(\"\\d+\", line)[1])\n",
    "                    gameMap[yMontain][xMontain] = \"M\"\n",
    "                # Trésor\n",
    "                if re.search(\"^(T|t).*-.*\\d\", line):\n",
    "                    xTreasure = int(re.findall(\"\\d+\", line)[0])\n",
    "                    print(\"x treasure : \" + str(xTreasure))\n",
    "                    yTreasure = int(re.findall(\"\\d+\", line)[1])\n",
    "                    print(\"y treasure : \" + str(yTreasure))\n",
    "                    nbTreasures = int(re.findall(\"\\d+\", line)[2])\n",
    "                    print(\"nb treasure : \" + str(nbTreasures))\n",
    "                    gameMap[yTreasure][xTreasure] = [\"T\", nbTreasures]\n",
    "                                          \n",
    "                print(\"write line.\")\n",
    "                print(line)\n",
    "                outputFile.write(line)\n",
    "            \n",
    "            \n",
    "        else:\n",
    "            # Adventurer(s)\n",
    "            nbAdventurers += 1\n",
    "            listElems = []\n",
    "            listElems.append(\"A\")\n",
    "            nameAdv = re.findall(\"[a-zA-Z]{2,}\", line)[0]\n",
    "            listElems.append(nameAdv)\n",
    "            columnAdv = int(re.findall(\"\\d+\", line)[0])\n",
    "            listElems.append(columnAdv)\n",
    "            lineAdv = int(re.findall(\"\\d+\", line)[1])\n",
    "            listElems.append(lineAdv)\n",
    "            orientationAdv = re.findall(\"\\s+(N|n|S|s|E|e|O|o){1}\\s+\", line)[0]\n",
    "            listElems.append(orientationAdv)\n",
    "            motionSequence = re.findall(\"[a-zA-Z]{2,}\", line)[1]\n",
    "            listElems.append(motionSequence)\n",
    "            #.append(columnAdv).append(lineAdv).append(orientationAdv).append(motionSequence)\n",
    "            print(listElems)\n",
    "            indice = nbAdventurers-1\n",
    "            #print(\"indice : \" + str(indice))\n",
    "            #tabAdventurers[indice] = listElems  #.append(columnAdv).append(lineAdv).append(orientationAdv).append(motionSequence)\n",
    "            tabAdventurers.append(listElems)\n",
    "            print(tabAdventurers[0])\n",
    "            #timTab = np.append(timTab, np.array([[1,2,3,4,5]]), axis=0)\n",
    "            #tabAdventurers = np.append(tabAdventurers, np.array([listElems]), axis=0)\n",
    "            gameMap[lineAdv][columnAdv] = listElems\n",
    "                        \n",
    "            print(\"output character\")\n",
    "            txtAname = str(re.findall(\"^A|a.*-.*-\", line)) #+ \"{{coordonnées}} {{nb trésors trouvés}}\"\n",
    "            outputFile.write(txtAname)\n",
    "            \n",
    "            #print(\"# nb adventurers : \" + str(nbAdventurers))\n",
    "            #print(\"name : \" + str(nameAdv))\n",
    "            #print(\"column number : \" + str(columnAdv))\n",
    "            #print(\"line number : \" + str(lineAdv))\n",
    "            #print(\"orientation : \"+str(orientationAdv))\n",
    "            #print(\"motion sequence :\"+str(motionSequence))\n",
    "               \n",
    "    for item in tabAdventurers:\n",
    "        print(\"item :: \" + str(item))            \n",
    "    inputFile.close()\n",
    "    outputFile.close()\n",
    "    print(\"all files closed\")\n",
    "    \n",
    "    print(\"gameMap\")\n",
    "    print(\".....................\")\n",
    "    print(gameMap)"
   ]
  },
  {
   "cell_type": "code",
   "execution_count": null,
   "metadata": {},
   "outputs": [],
   "source": []
  },
  {
   "cell_type": "code",
   "execution_count": 5,
   "metadata": {},
   "outputs": [
    {
     "name": "stdout",
     "output_type": "stream",
     "text": [
      "write line.\n",
      "# {C comme Carte} - {Nb. de case en largeur} - {Nb. de case en hauteur}\n",
      "\n",
      "write line.\n",
      "C - 3 - 4\n",
      "\n",
      "write line.\n",
      "# {M comme Montagne} - {Axe horizontal} - {Axe vertical}\n",
      "\n",
      "write line.\n",
      "M - 0 - 2\n",
      "\n",
      "['A', 'Indiana', 1, 1, 'S', 'AADADA']\n",
      "['A', 'Indiana', 1, 1, 'S', 'AADADA']\n",
      "output character\n",
      "break while true\n",
      "item :: ['A', 'Indiana', 1, 1, 'S', 'AADADA']\n",
      "all files closed\n",
      "gameMap\n",
      ".....................\n",
      "[[None None None]\n",
      " [None list(['A', 'Indiana', 1, 1, 'S', 'AADADA']) None]\n",
      " ['M' None None]\n",
      " [None None None]]\n"
     ]
    }
   ],
   "source": [
    "cheminEntree = './ressources/input02.carte'\n",
    "cheminSortie = './ressources/output02.carte'\n",
    "readFile(cheminEntree, cheminSortie)"
   ]
  },
  {
   "cell_type": "code",
   "execution_count": 6,
   "metadata": {},
   "outputs": [
    {
     "name": "stdout",
     "output_type": "stream",
     "text": [
      "[['A', 'Indiana', 1, 1, 'S', 'AADADA']]\n",
      "nb Adventurers : 1\n",
      "[[None None None]\n",
      " [None list(['A', 'Indiana', 1, 1, 'S', 'AADADA']) None]\n",
      " ['M' None None]\n",
      " [None None None]]\n"
     ]
    }
   ],
   "source": [
    "print(tabAdventurers)\n",
    "print(\"nb Adventurers :\", nbAdventurers)\n",
    "print(gameMap)"
   ]
  },
  {
   "cell_type": "code",
   "execution_count": 7,
   "metadata": {},
   "outputs": [],
   "source": [
    "def doSimulation(nbAdventurers, tabAdventurers, gameMap):\n",
    "    print(\"Simulation...\")\n",
    "    while True:\n",
    "        for people in tabAdventurers:\n",
    "            print(people)\n",
    "            print(\"next move\")\n",
    "            print(people[5])\n",
    "            peopleName = people[1]\n",
    "            orientation = people[4]\n",
    "            if people[4]:\n",
    "                nextMovement = people[5][0]\n",
    "            print(peopleName)\n",
    "            print(orientation)\n",
    "            print(nextMovement)\n",
    "            break\n",
    "        break"
   ]
  },
  {
   "cell_type": "code",
   "execution_count": 8,
   "metadata": {},
   "outputs": [
    {
     "name": "stdout",
     "output_type": "stream",
     "text": [
      "Simulation...\n",
      "['A', 'Indiana', 1, 1, 'S', 'AADADA']\n",
      "next move\n",
      "AADADA\n",
      "Indiana\n",
      "S\n",
      "A\n"
     ]
    }
   ],
   "source": [
    "doSimulation(nbAdventurers, tabAdventurers, gameMap)"
   ]
  },
  {
   "cell_type": "code",
   "execution_count": null,
   "metadata": {},
   "outputs": [],
   "source": []
  }
 ],
 "metadata": {
  "kernelspec": {
   "display_name": "Python 3",
   "language": "python",
   "name": "python3"
  },
  "language_info": {
   "codemirror_mode": {
    "name": "ipython",
    "version": 3
   },
   "file_extension": ".py",
   "mimetype": "text/x-python",
   "name": "python",
   "nbconvert_exporter": "python",
   "pygments_lexer": "ipython3",
   "version": "3.7.3"
  }
 },
 "nbformat": 4,
 "nbformat_minor": 2
}
